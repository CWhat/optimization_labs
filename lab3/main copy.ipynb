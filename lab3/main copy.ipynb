{
 "cells": [
  {
   "cell_type": "markdown",
   "metadata": {},
   "source": [
    "# Лабораторная работа №3"
   ]
  },
  {
   "cell_type": "code",
   "execution_count": 244,
   "metadata": {},
   "outputs": [],
   "source": [
    "import numpy as np\n",
    "import math as m\n",
    "import matplotlib.pyplot as plt"
   ]
  },
  {
   "cell_type": "markdown",
   "metadata": {},
   "source": [
    "Общий класс метода и утилитарные методы:"
   ]
  },
  {
   "cell_type": "code",
   "execution_count": 264,
   "metadata": {},
   "outputs": [],
   "source": [
    "import base64\n",
    "import urllib.parse\n",
    "import io\n",
    "import matplotlib.pyplot as plt\n",
    "from matplotlib.figure import Figure\n",
    "from IPython.display import HTML, display\n",
    "from abc import ABC, abstractmethod\n",
    "\n",
    "\n",
    "class Method(ABC):\n",
    "\n",
    "    # кортеж - (1, 2)\n",
    "    @abstractmethod\n",
    "    def result(self) -> tuple:\n",
    "        pass\n",
    "\n",
    "    # image - показывать ли изображение в таблице\n",
    "    @abstractmethod\n",
    "    def info(self, image=False) -> dict:\n",
    "        pass\n",
    "\n",
    "\n",
    "# В качестве особого ключа будет 'title', который будет указывать название метода\n",
    "titleKey = 'title'\n",
    "minPointKey = '1. Точка минимума'\n",
    "minimumKey = '2. Минимум'\n",
    "iterCountKey = '3. Кол-во итераций'\n",
    "execCountKey = '4. Кол-во вызовов целевой функции'\n",
    "gradCountKey = '5. Кол-во вычислений градиента'\n",
    "hesseKey = '6. Кол-во вычислений матриц Гессе'\n",
    "imageKey = '7. График приближения'\n",
    "\n",
    "# возвращает строки таблиц (у каждой строки на первой позиции заголовок,\n",
    "# далее идут значения) и заголовки\n",
    "\n",
    "\n",
    "def dictsToRows(dicts: list[dict], defaultValue=''):\n",
    "    keys = set()\n",
    "    for dict in dicts:\n",
    "        for key in dict.keys():\n",
    "            keys.add(key)\n",
    "\n",
    "    keys.discard('title')\n",
    "    keys = list(keys)\n",
    "    keys.sort()\n",
    "    # формируем таблицу\n",
    "    titles = [dict[titleKey] for dict in dicts]\n",
    "\n",
    "    table = []\n",
    "    for key in keys:\n",
    "        row = [str(key)]\n",
    "        for dict in dicts:\n",
    "            cellData = defaultValue\n",
    "            if dict.get(key) != None:\n",
    "                cellData = str(dict[key])\n",
    "\n",
    "            row.append(cellData)\n",
    "\n",
    "        table.append(row)\n",
    "\n",
    "    return table, titles\n",
    "\n",
    "\n",
    "def dictsToTable(dicts: list[dict]):\n",
    "    keys = set()\n",
    "    for dict in dicts:\n",
    "        for key in dict.keys():\n",
    "            keys.add(key)\n",
    "\n",
    "    keys.discard('title')\n",
    "    keys = list(keys)\n",
    "    keys.sort()\n",
    "    # формируем таблицу\n",
    "    table = '<th></th>'\n",
    "    for dict in dicts:\n",
    "        table += '<th>' + dict[titleKey] + '</th>'\n",
    "\n",
    "    table = '<tr>' + table + '</tr>'\n",
    "\n",
    "    for key in keys:\n",
    "        table += '<tr>'\n",
    "        table += '<th>' + str(key) + '</th>'\n",
    "        for dict in dicts:\n",
    "            cellData = ''\n",
    "            if dict.get(key) != None:\n",
    "                cellData = str(dict[key])\n",
    "\n",
    "            table += '<th>' + cellData + '</th>'\n",
    "\n",
    "        table += '</tr>'\n",
    "\n",
    "    display(HTML('<table style=\"border:20px black solid\">' + table + '</table>'))\n",
    "\n",
    "\n",
    "def printMethodsInfo(methods: list[Method]):\n",
    "    dictsToTable([method.info() for method in methods])\n",
    "\n",
    "\n",
    "def figureToHtml(fig: Figure):\n",
    "    imgdata = io.BytesIO()\n",
    "    fig.savefig(imgdata, format='png', dpi=500)\n",
    "    imgdata.seek(0)\n",
    "    data = urllib.parse.quote(base64.b64encode(imgdata.read()).decode())\n",
    "    return '<img src=\"data:image/png;base64,%s\"/>' % data\n",
    "\n",
    "\n",
    "def pltToHtml():\n",
    "    fig = plt.gcf()\n",
    "    data = figureToHtml(fig)\n",
    "    # fig.clear()\n",
    "    return data\n",
    "\n",
    "\n",
    "def fmtFloat(num: float, eps: float) -> str:\n",
    "    \"\"\"\n",
    "    Возвращает сторку с числом num, округленное до точености eps\n",
    "    Пример: fmtFloat(0.125, 0.01) -> 0.13\n",
    "    \"\"\"\n",
    "    count = -round(m.log10(eps))\n",
    "    return f\"{num:.{count}f}\"\n",
    "\n",
    "\n",
    "def drawPoints(fig: Figure, fun, points: list):\n",
    "    minx = min(points, key=lambda x: x[0])[0]\n",
    "    maxx = max(points, key=lambda x: x[0])[0]\n",
    "    miny = min(points, key=lambda x: x[1])[1]\n",
    "    maxy = max(points, key=lambda x: x[1])[1]\n",
    "\n",
    "    deltax = (maxx - minx) / 10\n",
    "    deltay = (maxy - miny) / 10\n",
    "\n",
    "    if deltax < 0.1:\n",
    "        deltax = 5\n",
    "    if deltay < 0.1:\n",
    "        deltay = 5\n",
    "\n",
    "    minx -= deltax\n",
    "    maxx += deltax\n",
    "    miny -= deltay\n",
    "    maxy += deltay\n",
    "\n",
    "    # X = np.linspace(minx, maxx, num=200)\n",
    "    # Y = np.linspace(miny, maxy, num=200)\n",
    "    # X, Y = np.meshgrid(X, Y)\n",
    "    # Z = []\n",
    "    # for i in range(200):\n",
    "    #     ZZ = []\n",
    "    #     for j in range(200):\n",
    "    #         ZZ.append(fun([X[i, j], Y[i, j]]))\n",
    "    #     Z.append(ZZ)\n",
    "\n",
    "    # ax = fig.subplots()\n",
    "    # ax.grid()\n",
    "    # ax.contourf(X, Y, Z)\n",
    "    # ax.plot([x[0] for x in points], [x[1]\n",
    "    #         for x in points], marker='o', markersize=3, color='red')\n",
    "\n",
    "    pointsCount = 400\n",
    "    X = np.linspace(minx, maxx, num=pointsCount)\n",
    "    Y = np.linspace(miny, maxy, num=pointsCount)\n",
    "    X, Y = np.meshgrid(X, Y)\n",
    "    Z = []\n",
    "    for i in range(pointsCount):\n",
    "        ZZ = []\n",
    "        for j in range(pointsCount):\n",
    "            ZZ.append(fun([X[i, j], Y[i, j]]))\n",
    "        Z.append(ZZ)\n",
    "\n",
    "    ax = fig.subplots()\n",
    "    ax.grid()\n",
    "    maxLevels = 100\n",
    "    levels = list(set([fun(x) for x in points[:min(maxLevels, len(points))]]))\n",
    "    levels.sort()\n",
    "\n",
    "    # maxPoints = 1000\n",
    "    # points = points[:min(maxPoints, len(points))]\n",
    "\n",
    "    ax.contour(X, Y, Z, levels=levels)\n",
    "    ax.plot([x[0] for x in points], [x[1]\n",
    "            for x in points], marker='o', markersize=3, color='red')\n",
    "\n",
    "\n",
    "def showImage(fun, points: list, equal: bool = False):\n",
    "    # перед вызовом этой функции нужно написать %matplotlib widget\n",
    "    fig = plt.figure()\n",
    "    drawPoints(fig, fun, points)\n",
    "    figData = figureToHtml(fig)\n",
    "    if equal:\n",
    "        fig.gca().set_aspect('equal')\n",
    "\n",
    "    # fig.show()\n",
    "    # plt.close(fig)\n",
    "\n",
    "\n",
    "# сохраняет картинку\n",
    "def savefig(fun, points: list, filename, equal: bool = False):\n",
    "    # перед вызовом этой функции нужно написать %matplotlib widget\n",
    "    fig = plt.figure()\n",
    "    drawPoints(fig, fun, points)\n",
    "    figData = figureToHtml(fig)\n",
    "    if equal:\n",
    "        fig.gca().set_aspect('equal')\n",
    "\n",
    "    fig.savefig(filename + '.png', dpi=600)\n",
    "    plt.close(fig)\n"
   ]
  },
  {
   "cell_type": "markdown",
   "metadata": {},
   "source": [
    "Минимизируемые функции:"
   ]
  },
  {
   "cell_type": "code",
   "execution_count": 26,
   "metadata": {},
   "outputs": [],
   "source": [
    "def f1(x): return 10 * x[0]**2 - 4*x[0]*x[1] + 7 * \\\n",
    "    x[1]**2 - 4*m.sqrt(5) * (5*x[0]-x[1]) - 16\n",
    "\n",
    "\n",
    "def f1Grad(x): return [-20 * m.sqrt(5) + 20 * x[0] -\n",
    "                       4*x[1], 4*m.sqrt(5) - 4*x[0] + 14*x[1]]\n",
    "\n",
    "\n",
    "def f1Hesse(x): return [[-20, -4], [-4, 14]]\n",
    "\n",
    "\n",
    "def rozenbrok(alpha: float):\n",
    "    # return lambda x: alpha * (x[0]**2 - x[1])**2 + (x[0]-1)**2\n",
    "    return lambda x: alpha * np.power(np.power(x[0], 2) - x[1], 2) + np.power(x[0]-1, 2)\n",
    "\n",
    "\n",
    "def rozenbrokGrad(alpha: float):\n",
    "    # return lambda x: [-2*(1 - x[0]) - 4*x[0]*(-x[0]**2 + x[1])*alpha, 2*(-x[0]**2 + x[1])*alpha]\n",
    "    return lambda x: [-2*(1 - x[0]) - 4*x[0]*(-np.power(x[0], 2) + x[1])*alpha, 2*(-np.power(x[0], 2) + x[1])*alpha]\n",
    "\n",
    "\n",
    "def rozenbrokHesse(alpha: float):\n",
    "    return lambda x: [[2.0 + 12*alpha*np.power(x[0], 2), -4*alpha*x[0]], [-4*alpha*x[0], 2*alpha]]\n",
    "\n",
    "\n",
    "alpha1 = 1\n",
    "alpha2 = 10\n",
    "\n",
    "f2 = rozenbrok(alpha1)\n",
    "f2Grad = rozenbrokGrad(alpha1)\n",
    "f2Hesse = rozenbrokHesse(alpha1)\n",
    "\n",
    "f3 = rozenbrok(alpha2)\n",
    "f3Grad = rozenbrokGrad(alpha2)\n",
    "f3Hesse = rozenbrokHesse(alpha2)\n"
   ]
  },
  {
   "cell_type": "markdown",
   "metadata": {},
   "source": [
    "Метод золотого сечения для одномерной оптимизации, вторым параметром возвращает кол-во вычислений целевой функции:"
   ]
  },
  {
   "cell_type": "code",
   "execution_count": 293,
   "metadata": {},
   "outputs": [],
   "source": [
    "def methodGoldenRatio(fun, a: float, b: float, eps: float):\n",
    "    # tau = (m.sqrt(5) + 1) / 2\n",
    "    tau1 = 2.0 / (3.0 + m.sqrt(5.0))\n",
    "    tau2 = 2.0 / (1.0 + m.sqrt(5.0))\n",
    "    ak, bk = a, b\n",
    "    lk = bk - ak\n",
    "    # xk1 = bk - lk / tau\n",
    "    # xk2 = ak + lk / tau\n",
    "    xk1 = ak + tau1 * lk\n",
    "    xk2 = ak + tau2 * lk\n",
    "    # y1, y2 = fun(xk1), fun(xk2)\n",
    "    y1 = fun(xk1)\n",
    "    y2 = fun(xk2)\n",
    "    \n",
    "    execCount = 2\n",
    "\n",
    "    while lk >= eps/1000.0:\n",
    "    # while np.abs(bk - ak) >= eps*(np.abs(xk1) + np.abs(xk2)) and execCount <= 5002:\n",
    "    # while np.abs(bk - ak) >= eps*(np.abs(xk1) + np.abs(xk2)):\n",
    "    # while execCount <= 5002:\n",
    "    # mEps = eps*np.abs(b-a)\n",
    "    # while np.abs(bk-ak) > mEps and execCount <= 5002:\n",
    "    # while (np.abs(bk-ak) > mEps or m.isnan(y1) or m.isnan(y2)) and execCount <= 5002:\n",
    "        if y1 < y2 or m.isnan(y2):\n",
    "        # if y1 < y2:\n",
    "            bk = xk2\n",
    "            xk2 = xk1\n",
    "            lk = bk - ak\n",
    "            xk1 = ak + tau1 * lk\n",
    "            y2 = y1\n",
    "            y1 = fun(xk1)\n",
    "\n",
    "            # if np.isnan(y1):\n",
    "                # y1 = np.Inf\n",
    "        else:\n",
    "            ak = xk1\n",
    "            xk1 = xk2\n",
    "            lk = bk - ak\n",
    "            xk2 = ak + tau2 * lk\n",
    "            y1 = y2\n",
    "            y2 = fun(xk2)\n",
    "\n",
    "            # if np.isnan(y2):\n",
    "                # y2 = np.Inf\n",
    "        # lk = bk - ak\n",
    "        execCount += 1\n",
    "    return (ak + bk) / 2, execCount\n"
   ]
  },
  {
   "cell_type": "code",
   "execution_count": 242,
   "metadata": {},
   "outputs": [],
   "source": [
    "#\n",
    "from scipy.optimize import golden\n",
    "def methodGoldenRatio(fun, a: float, b: float, eps: float):\n",
    "    x, _, execCount = golden(fun, brack = (a, b), tol = eps, full_output=True)\n",
    "    return x, execCount"
   ]
  },
  {
   "cell_type": "markdown",
   "metadata": {},
   "source": [
    "Метод сопряженных градиентов:"
   ]
  },
  {
   "cell_type": "code",
   "execution_count": 289,
   "metadata": {},
   "outputs": [],
   "source": [
    "ConjGradMethod = 1\n",
    "FletcherReevesMethod = 2\n",
    "PolakRieberMethod = 3\n",
    "\n",
    "class ConjGradMethod(Method):\n",
    "    methodName = 'Метод сопряженных градиентов'\n",
    "\n",
    "    def __init__(self, fun, grad, hesse, eps: float, startPoint):\n",
    "        self.points = []\n",
    "        self.iterCount = 0\n",
    "        self.execCount = 0\n",
    "        self.gradCount = 0\n",
    "        self.hesseCount = 0\n",
    "        self.eps = eps\n",
    "\n",
    "        self.fun = fun\n",
    "\n",
    "        def w(x):\n",
    "            gr = grad(x)\n",
    "            return [-gr[0], -gr[1]]\n",
    "\n",
    "        # Можно менять\n",
    "        kappaMax = 1\n",
    "\n",
    "        xk = startPoint\n",
    "        self.points.append(xk)\n",
    "        wk = w(xk)\n",
    "        self.gradCount += 1\n",
    "        lk = np.linalg.norm(wk)\n",
    "        maxVecLen = 200.0\n",
    "\n",
    "        p = wk\n",
    "\n",
    "        while lk >= eps:\n",
    "            self.iterCount += 1\n",
    "\n",
    "            v = p\n",
    "            if np.linalg.norm(v) >= maxVecLen:\n",
    "                v = np.array(v) / np.linalg.norm(v) * maxVecLen\n",
    "\n",
    "            # def phi(kappa): return fun(\n",
    "            #     [xk[0] + kappa * p[0], xk[1] + kappa * p[1]])\n",
    "            def phi(kappa): return fun(\n",
    "                [xk[0] + kappa * v[0], xk[1] + kappa * v[1]])\n",
    "            kappa, addExec = methodGoldenRatio(phi, 0, kappaMax, eps)\n",
    "            self.execCount += addExec\n",
    "\n",
    "            # newXk = [xk[0] + p[0]*kappa, xk[1] + p[1]*kappa]\n",
    "            newXk = [xk[0] + v[0]*kappa, xk[1] + v[1]*kappa]\n",
    "\n",
    "            newWk = w(newXk)\n",
    "            self.gradCount += 1\n",
    "\n",
    "            h = hesse(xk)\n",
    "            self.hesseCount += 1\n",
    "\n",
    "            gamma = 0\n",
    "            if self.iterCount % 2 != 0:\n",
    "                gamma = - np.dot(np.dot(h, p), newWk) / \\\n",
    "                    np.dot(np.dot(h, p), p)\n",
    "\n",
    "            lk = np.linalg.norm(wk)\n",
    "            xk = newXk\n",
    "            wk = newWk\n",
    "            p = [wk[0] + gamma*p[0], wk[1] + gamma*p[1]]\n",
    "\n",
    "            self.points.append(xk)\n",
    "\n",
    "        self.minPoint = xk\n",
    "        self.minimum = fun(xk)\n",
    "\n",
    "    def result(self) -> tuple:\n",
    "        return self.minPoint, self.minimum\n",
    "\n",
    "    def info(self, image=False) -> dict:\n",
    "        d = {\n",
    "            titleKey: self.methodName,\n",
    "            minPointKey: '(' + fmtFloat(self.minPoint[0], self.eps) + ', ' + fmtFloat(self.minPoint[1], self.eps) + ')',\n",
    "            minimumKey: fmtFloat(self.minimum, self.eps),\n",
    "            iterCountKey: self.iterCount,\n",
    "            execCountKey: self.execCount,\n",
    "            gradCountKey: self.gradCount,\n",
    "            hesseKey: self.hesseCount,\n",
    "            # imageKey: figData\n",
    "        }\n",
    "\n",
    "        if image:\n",
    "            fig = plt.figure()\n",
    "            drawPoints(fig, self.fun, self.points)\n",
    "            figData = figureToHtml(fig)\n",
    "            plt.close(fig)\n",
    "            d[imageKey] = figData\n",
    "\n",
    "        return d\n"
   ]
  },
  {
   "cell_type": "markdown",
   "metadata": {},
   "source": [
    "Метод Флетчера-Ривса:"
   ]
  },
  {
   "cell_type": "code",
   "execution_count": 290,
   "metadata": {},
   "outputs": [],
   "source": [
    "class FletcherReevesMethod(Method):\n",
    "    methodName = 'Метод Флетчера-Ривса'\n",
    "\n",
    "    def __init__(self, fun, grad, eps: float, startPoint):\n",
    "        self.points = []\n",
    "        self.iterCount = 0\n",
    "        self.execCount = 0\n",
    "        self.gradCount = 0\n",
    "        self.hesseCount = 0\n",
    "        self.eps = eps\n",
    "\n",
    "        self.fun = fun\n",
    "\n",
    "        def w(x):\n",
    "            gr = grad(x)\n",
    "            return [-gr[0], -gr[1]]\n",
    "\n",
    "        kappaMax = 1\n",
    "\n",
    "        xk = startPoint\n",
    "        self.points.append(xk)\n",
    "        wk = w(xk)\n",
    "        self.gradCount += 1\n",
    "        lk = np.linalg.norm(wk)\n",
    "        maxVecLen = 200.0\n",
    "\n",
    "        p = wk\n",
    "\n",
    "        while lk >= eps:\n",
    "            self.iterCount += 1\n",
    "\n",
    "            v = p\n",
    "            if np.linalg.norm(v) >= maxVecLen:\n",
    "                v = np.array(v) / np.linalg.norm(v) * maxVecLen\n",
    "            \n",
    "            # def phi(kappa): return fun(\n",
    "                # [xk[0] + kappa * p[0], xk[1] + kappa * p[1]])\n",
    "            def phi(kappa): return fun(\n",
    "                [xk[0] + kappa * v[0], xk[1] + kappa * v[1]])\n",
    "            \n",
    "            kappa, addExec = methodGoldenRatio(phi, 0, kappaMax, eps)\n",
    "            self.execCount += addExec\n",
    "\n",
    "            # newXk = [xk[0] + p[0]*kappa, xk[1] + p[1]*kappa]\n",
    "            newXk = [xk[0] + v[0]*kappa, xk[1] + v[1]*kappa]\n",
    "\n",
    "            newWk = w(newXk)\n",
    "            self.gradCount += 1\n",
    "\n",
    "            gamma = 0\n",
    "            if self.iterCount % 2 != 0:\n",
    "                gamma = np.dot(newWk, newWk) / \\\n",
    "                    np.dot(wk, wk)\n",
    "\n",
    "            lk = np.linalg.norm(wk)\n",
    "            xk = newXk\n",
    "            wk = newWk\n",
    "            p = [wk[0] + gamma*p[0], wk[1] + gamma*p[1]]\n",
    "\n",
    "            self.points.append(xk)\n",
    "\n",
    "        self.minPoint = xk\n",
    "        self.minimum = fun(xk)\n",
    "\n",
    "    def result(self) -> tuple:\n",
    "        return self.minPoint, self.minimum\n",
    "\n",
    "    def info(self, image=False) -> dict:\n",
    "        d = {\n",
    "            titleKey: self.methodName,\n",
    "            minPointKey: '(' + fmtFloat(self.minPoint[0], self.eps) + ', ' + fmtFloat(self.minPoint[1], self.eps) + ')',\n",
    "            minimumKey: fmtFloat(self.minimum, self.eps),\n",
    "            iterCountKey: self.iterCount,\n",
    "            execCountKey: self.execCount,\n",
    "            gradCountKey: self.gradCount,\n",
    "            hesseKey: self.hesseCount,\n",
    "            # imageKey: figData\n",
    "        }\n",
    "\n",
    "        if image:\n",
    "            fig = plt.figure()\n",
    "            drawPoints(fig, self.fun, self.points)\n",
    "            figData = figureToHtml(fig)\n",
    "            plt.close(fig)\n",
    "            d[imageKey] = figData\n",
    "\n",
    "        return d\n"
   ]
  },
  {
   "cell_type": "markdown",
   "metadata": {},
   "source": [
    "Метод Полака-Рибера:"
   ]
  },
  {
   "cell_type": "code",
   "execution_count": 291,
   "metadata": {},
   "outputs": [],
   "source": [
    "class PolakRieberMethod(Method):\n",
    "    methodName = 'Метод Полака-Рибера'\n",
    "\n",
    "    def __init__(self, fun, grad, eps: float, startPoint):\n",
    "        self.points = []\n",
    "        self.iterCount = 0\n",
    "        self.execCount = 0\n",
    "        self.gradCount = 0\n",
    "        self.hesseCount = 0\n",
    "        self.eps = eps\n",
    "\n",
    "        self.fun = fun\n",
    "\n",
    "        def w(x):\n",
    "            gr = grad(x)\n",
    "            return [-gr[0], -gr[1]]\n",
    "\n",
    "        kappaMax = 1\n",
    "\n",
    "        xk = startPoint\n",
    "        self.points.append(xk)\n",
    "        wk = w(xk)\n",
    "        self.gradCount += 1\n",
    "        lk = np.linalg.norm(wk)\n",
    "        maxVecLen = 200.0\n",
    "\n",
    "        p = wk\n",
    "\n",
    "        while lk >= eps:\n",
    "            self.iterCount += 1\n",
    "\n",
    "            v = p\n",
    "            if np.linalg.norm(v) >= maxVecLen:\n",
    "                v = np.array(v) / np.linalg.norm(v) * maxVecLen\n",
    "            \n",
    "            # def phi(kappa): return fun(\n",
    "                # [xk[0] + kappa * p[0], xk[1] + kappa * p[1]])\n",
    "            def phi(kappa): return fun(\n",
    "                [xk[0] + kappa * v[0], xk[1] + kappa * v[1]])\n",
    "        \n",
    "            kappa, addExec = methodGoldenRatio(phi, 0, kappaMax, eps)\n",
    "            self.execCount += addExec\n",
    "\n",
    "            # newXk = [xk[0] + p[0]*kappa, xk[1] + p[1]*kappa]\n",
    "            newXk = [xk[0] + v[0]*kappa, xk[1] + v[1]*kappa]\n",
    "\n",
    "            newWk = w(newXk)\n",
    "            self.gradCount += 1\n",
    "\n",
    "            gamma = 0\n",
    "            if self.iterCount % 2 != 0:\n",
    "                gamma = np.dot(np.array(newWk) - np.array(wk), newWk) / \\\n",
    "                    np.dot(wk, wk)\n",
    "\n",
    "            lk = np.linalg.norm(wk)\n",
    "            xk = newXk\n",
    "            wk = newWk\n",
    "            p = [wk[0] + gamma*p[0], wk[1] + gamma*p[1]]\n",
    "\n",
    "            self.points.append(xk)\n",
    "\n",
    "        self.minPoint = xk\n",
    "        self.minimum = fun(xk)\n",
    "\n",
    "    def result(self) -> tuple:\n",
    "        return self.minPoint, self.minimum\n",
    "\n",
    "    def info(self, image=False) -> dict:\n",
    "        d = {\n",
    "            titleKey: self.methodName,\n",
    "            minPointKey: '(' + fmtFloat(self.minPoint[0], self.eps) + ', ' + fmtFloat(self.minPoint[1], self.eps) + ')',\n",
    "            minimumKey: fmtFloat(self.minimum, self.eps),\n",
    "            iterCountKey: self.iterCount,\n",
    "            execCountKey: self.execCount,\n",
    "            gradCountKey: self.gradCount,\n",
    "            hesseKey: self.hesseCount,\n",
    "            # imageKey: figData\n",
    "        }\n",
    "\n",
    "        if image:\n",
    "            fig = plt.figure()\n",
    "            drawPoints(fig, self.fun, self.points)\n",
    "            figData = figureToHtml(fig)\n",
    "            plt.close(fig)\n",
    "            d[imageKey] = figData\n",
    "\n",
    "        return d\n"
   ]
  },
  {
   "cell_type": "markdown",
   "metadata": {},
   "source": [
    "Тесты:"
   ]
  },
  {
   "cell_type": "markdown",
   "metadata": {},
   "source": [
    "Одиночный тест:"
   ]
  },
  {
   "cell_type": "code",
   "execution_count": null,
   "metadata": {},
   "outputs": [],
   "source": [
    "import warnings\n",
    "# warnings.filterwarnings('ignore')\n",
    "# warnings.filterwarnings('error')\n",
    "warnings.filterwarnings('default')\n",
    "\n",
    "eps = 0.01\n",
    "startPoint = [6., 7.]\n",
    "fun = ['Функция Розенброка с \\u03b1 = 10', f3, f3Grad, f3Hesse]\n",
    "res1 = ConjGradMethod(fun[1], fun[2], fun[3], eps, startPoint)\n",
    "printMethodsInfo([res1])\n",
    "showImage(fun, res1.points)"
   ]
  },
  {
   "cell_type": "markdown",
   "metadata": {},
   "source": [
    "Тест с созданием TeX'овского файла:"
   ]
  },
  {
   "cell_type": "code",
   "execution_count": 276,
   "metadata": {},
   "outputs": [
    {
     "name": "stdout",
     "output_type": "stream",
     "text": [
      "Квадратичная функция\n",
      "ε =  0.01\n",
      "ε =  1e-06\n",
      "Функция Розенброка с $\\alpha$ = 1\n",
      "ε =  0.01\n",
      "ε =  1e-06\n",
      "Функция Розенброка с $\\alpha$ = 10\n",
      "ε =  0.01\n",
      "ε =  1e-06\n",
      "Записываем в файл...\n"
     ]
    }
   ],
   "source": [
    "# меняем заголовки в техе, чтобы они влезали в ширину\n",
    "texTitles = {\n",
    "    minPointKey: 'Точка минимума',\n",
    "    minimumKey: 'Минимум',\n",
    "    iterCountKey: 'Кол-во итераций',\n",
    "    execCountKey: '\\\\makecell{Кол-во вызовов\\\\\\\\целевой функции}',\n",
    "    gradCountKey: '\\\\makecell{Кол-во вычислений\\\\\\\\градиента}',\n",
    "    hesseKey: '\\\\makecell{Кол-во вычислений\\\\\\\\матриц Гессе}',\n",
    "}\n",
    "\n",
    "algNames = ['\\\\makecell{Метод\\\\\\\\сопряженных\\\\\\\\градиентов}',\n",
    "            '\\\\makecell{Метод\\\\\\\\Флетчера --- Ривса}',\n",
    "            '\\\\makecell{Метод\\\\\\\\Полака --- Рибера}']\n",
    "\n",
    "imgFolder = './imgs/'\n",
    "\n",
    "\n",
    "def texTest(funs, epss, startPoints, filename='test.tex'):\n",
    "    # TODO получать названия методов\n",
    "    algCount = len(algNames)\n",
    "    text = ''\n",
    "\n",
    "    for fun in funs:\n",
    "        print(fun[0])\n",
    "        text += \"\\\\subsection{{{name}}}\\n\\n\".format(name=fun[0])\n",
    "\n",
    "        text += \"\"\"\\\\begin{{table}}[H]\n",
    "        \\\\centering\n",
    "        \\\\vspace*{{-1.5em}}\n",
    "        \\\\caption{{Результаты работы алгоритмов\\\\\\\\для {caption}}}\n",
    "        \\\\footnotesize\n",
    "        \\\\begin{{tabular}}{{{colsFormat}}}\n",
    "        \\\\hline\n",
    "        & {methods} \\\\\\\\\n",
    "        \\\\hline\n",
    "\"\"\".format(\n",
    "            caption=fun[4],\n",
    "            colsFormat='|' + 'c|'*(algCount + 2),\n",
    "            methods=' '.join(['&' + name for name in algNames])\n",
    "        )\n",
    "\n",
    "        images = []\n",
    "        imgText = ''\n",
    "        for eps in epss:\n",
    "            print('\\u03b5 = ', eps)\n",
    "            tables = []\n",
    "            titles = []\n",
    "            for point in startPoints:\n",
    "                # TODO вынести вызов методов\n",
    "                res1 = ConjGradMethod(\n",
    "                    fun[1], fun[2], fun[3], eps, point)\n",
    "                res1Info = res1.info()\n",
    "                res2 = FletcherReevesMethod(fun[1], fun[2], eps, point)\n",
    "                res2Info = res2.info()\n",
    "                res3 = PolakRieberMethod(fun[1], fun[2], eps, point)\n",
    "                res3Info = res3.info()\n",
    "\n",
    "                baseName = ', eps ' + str(eps) + ', start = (' + fmtFloat(\n",
    "                    point[0], eps) + ', ' + fmtFloat(point[1], eps) + ')' + ', ' + fun[0]\n",
    "                baseName = baseName.translate(''.maketrans({'$': None, '\\\\': None}))\n",
    "                baseCaption = 'Поиск минимума ' + fun[4] + ' при $\\\\varepsilon = ' + str(\n",
    "                    eps) + '$, начальной точке (' + str(point[0]) + ', ' + str(point[1]) + ') '\n",
    "\n",
    "                img1Name = res1.methodName + baseName\n",
    "                img2Name = res2.methodName + baseName\n",
    "                img3Name = res3.methodName + baseName\n",
    "\n",
    "                img1Caption = baseCaption + 'методом сопряженных градиентов'\n",
    "                img2Caption = baseCaption + 'методом Флетчера --- Ривса'\n",
    "                img3Caption = baseCaption + 'методом Полака --- Рибера'\n",
    "\n",
    "                savefig(fun[1], res1.points, imgFolder + img1Name)\n",
    "                savefig(fun[1], res2.points, imgFolder + img2Name)\n",
    "                savefig(fun[1], res3.points, imgFolder + img3Name)\n",
    "\n",
    "                images.append([img1Name, img1Caption])\n",
    "                images.append([img2Name, img2Caption])\n",
    "                images.append([img3Name, img3Caption])\n",
    "\n",
    "                table, titles = dictsToRows([res1Info, res2Info, res3Info])\n",
    "                tables.append(table)\n",
    "\n",
    "            text += \"\"\"\\t\\\\multirow{{{height}}}{{*}}{{\\\\rotatebox[origin=c]{{90}}{{$\\\\varepsilon = {epsVal}$}}}}\"\"\".format(\n",
    "                    height=sum([len(table) for table in tables]),\n",
    "                    epsVal=eps,\n",
    "            )\n",
    "            for ind, table in enumerate(tables):\n",
    "                if ind != 0:\n",
    "                    text += \"\\\\cline{{2-{width}}}\".format(width=2+len(titles))\n",
    "\n",
    "                text += \"\"\"&\\\\textbf{{Начальная точка}} &\\\\multicolumn{{{width}}}{{c|}}{{\\\\textbf{{{point}}}}}\\\\\\\\\\n\\t\\\\cline{{2-{widthTable}}}\\n\"\"\".format(\n",
    "                    width=len(titles),\n",
    "                    point='(' + fmtFloat(startPoints[ind][0], eps) +\n",
    "                    ', ' + fmtFloat(startPoints[ind][1], eps) + ')',\n",
    "                    widthTable=2+len(titles),\n",
    "                )\n",
    "\n",
    "                for row in table:\n",
    "                    row[0] = texTitles[row[0]]\n",
    "                    text += \"\"\"\\t{row} \\\\\\\\ \\n\\t\\\\cline{{2-{width}}}\\n\"\"\".format(\n",
    "                        row=' '.join(['&' + cell for cell in row]),\n",
    "                        width=2+len(titles),\n",
    "                    )\n",
    "            text += \"\\t\\\\hline\\n\"\n",
    "        text += \"\\n\\\\end{tabular}\\n\\\\end{table}\\n\\n\"\n",
    "        for img in images:\n",
    "            imgText += \"\"\"\n",
    "            \\\\begin{{figure}}[H]\n",
    "\t        \\\\centering\n",
    "\t        \\\\includegraphics[width=0.70\\\\textwidth]{{{path}}}%\n",
    "\t        \\\\caption{{{caption}}}\n",
    "\t        \\\\vspace*{{-1.2cm}}\n",
    "            \\\\end{{figure}}\n",
    "            \"\"\".format(path=img[0], caption=img[1])\n",
    "        text += imgText\n",
    "\n",
    "    print('Записываем в файл...')\n",
    "    with open(filename, 'w', encoding='utf-8') as file:\n",
    "        file.write(text)"
   ]
  },
  {
   "cell_type": "code",
   "execution_count": 277,
   "metadata": {},
   "outputs": [
    {
     "name": "stdout",
     "output_type": "stream",
     "text": [
      "Квадратичная функция\n",
      "ε =  0.01\n",
      "ε =  1e-06\n",
      "Функция Розенброка с $\\alpha$ = 1\n",
      "ε =  0.01\n",
      "ε =  1e-06\n",
      "Функция Розенброка с $\\alpha$ = 10\n",
      "ε =  0.01\n",
      "ε =  1e-06\n",
      "Записываем в файл...\n",
      "Wall time: 1min 2s\n"
     ]
    }
   ],
   "source": [
    "%%time\n",
    "epss = [0.01, 1e-6]\n",
    "funs = [['Квадратичная функция', f1, f1Grad, f1Hesse, 'квадратичной функции'],\n",
    "        ['Функция Розенброка с $\\\\alpha$ = 1', f2, f2Grad,\n",
    "            f2Hesse, 'функции Розенброка с $\\\\alpha$ = 1'],\n",
    "        ['Функция Розенброка с $\\\\alpha$ = 10', f3, f3Grad, f3Hesse, 'функции Розенброка с $\\\\alpha$ = 10']]\n",
    "# funs = [['Квадратичная функция', f1, f1Grad, f1Hesse, 'квадратичной функции']]\n",
    "startPoints = [[3., 20.], [-5., 6.]]\n",
    "\n",
    "texTest(funs, epss, startPoints)"
   ]
  },
  {
   "cell_type": "code",
   "execution_count": 49,
   "metadata": {},
   "outputs": [],
   "source": [
    "import warnings\n",
    "warnings.filterwarnings('default')"
   ]
  },
  {
   "cell_type": "markdown",
   "metadata": {},
   "source": [
    "Большой тест:"
   ]
  },
  {
   "cell_type": "code",
   "execution_count": 294,
   "metadata": {},
   "outputs": [
    {
     "name": "stdout",
     "output_type": "stream",
     "text": [
      "Квадратичная функция, ε = 0.01, начальная точка = (10.0, 10.0)\n"
     ]
    },
    {
     "data": {
      "text/html": [
       "<table style=\"border:20px black solid\"><tr><th></th><th>Метод сопряженных градиентов</th><th>Метод Флетчера-Ривса</th><th>Метод Полака-Рибера</th></tr><tr><th>1. Точка минимума</th><th>(2.24, -0.00)</th><th>(2.24, 0.00)</th><th>(2.24, 0.00)</th></tr><tr><th>2. Минимум</th><th>-66.00</th><th>-66.00</th><th>-66.00</th></tr><tr><th>3. Кол-во итераций</th><th>10</th><th>3</th><th>3</th></tr><tr><th>4. Кол-во вызовов целевой функции</th><th>260</th><th>78</th><th>78</th></tr><tr><th>5. Кол-во вычислений градиента</th><th>11</th><th>4</th><th>4</th></tr><tr><th>6. Кол-во вычислений матриц Гессе</th><th>10</th><th>0</th><th>0</th></tr></table>"
      ],
      "text/plain": [
       "<IPython.core.display.HTML object>"
      ]
     },
     "metadata": {},
     "output_type": "display_data"
    },
    {
     "name": "stdout",
     "output_type": "stream",
     "text": [
      "Квадратичная функция, ε = 0.01, начальная точка = (-100.0, -100.0)\n"
     ]
    },
    {
     "data": {
      "text/html": [
       "<table style=\"border:20px black solid\"><tr><th></th><th>Метод сопряженных градиентов</th><th>Метод Флетчера-Ривса</th><th>Метод Полака-Рибера</th></tr><tr><th>1. Точка минимума</th><th>(2.24, -0.00)</th><th>(2.24, 0.00)</th><th>(2.24, 0.00)</th></tr><tr><th>2. Минимум</th><th>-66.00</th><th>-66.00</th><th>-66.00</th></tr><tr><th>3. Кол-во итераций</th><th>11</th><th>3</th><th>3</th></tr><tr><th>4. Кол-во вызовов целевой функции</th><th>286</th><th>78</th><th>78</th></tr><tr><th>5. Кол-во вычислений градиента</th><th>12</th><th>4</th><th>4</th></tr><tr><th>6. Кол-во вычислений матриц Гессе</th><th>11</th><th>0</th><th>0</th></tr></table>"
      ],
      "text/plain": [
       "<IPython.core.display.HTML object>"
      ]
     },
     "metadata": {},
     "output_type": "display_data"
    },
    {
     "name": "stdout",
     "output_type": "stream",
     "text": [
      "Квадратичная функция, ε = 1e-06, начальная точка = (0.0, 0.0)\n"
     ]
    },
    {
     "data": {
      "text/html": [
       "<table style=\"border:20px black solid\"><tr><th></th><th>Метод сопряженных градиентов</th><th>Метод Флетчера-Ривса</th><th>Метод Полака-Рибера</th></tr><tr><th>1. Точка минимума</th><th>(2.236068, -0.000000)</th><th>(2.236068, -0.000000)</th><th>(2.236068, -0.000000)</th></tr><tr><th>2. Минимум</th><th>-66.000000</th><th>-66.000000</th><th>-66.000000</th></tr><tr><th>3. Кол-во итераций</th><th>14</th><th>3</th><th>3</th></tr><tr><th>4. Кол-во вызовов целевой функции</th><th>644</th><th>138</th><th>138</th></tr><tr><th>5. Кол-во вычислений градиента</th><th>15</th><th>4</th><th>4</th></tr><tr><th>6. Кол-во вычислений матриц Гессе</th><th>14</th><th>0</th><th>0</th></tr></table>"
      ],
      "text/plain": [
       "<IPython.core.display.HTML object>"
      ]
     },
     "metadata": {},
     "output_type": "display_data"
    },
    {
     "name": "stdout",
     "output_type": "stream",
     "text": [
      "Квадратичная функция, ε = 1e-06, начальная точка = (1000.0, 1000.0)\n"
     ]
    },
    {
     "data": {
      "text/html": [
       "<table style=\"border:20px black solid\"><tr><th></th><th>Метод сопряженных градиентов</th><th>Метод Флетчера-Ривса</th><th>Метод Полака-Рибера</th></tr><tr><th>1. Точка минимума</th><th>(2.236068, 0.000000)</th><th>(2.236068, -0.000000)</th><th>(2.236068, 0.000000)</th></tr><tr><th>2. Минимум</th><th>-66.000000</th><th>-66.000000</th><th>-66.000000</th></tr><tr><th>3. Кол-во итераций</th><th>27</th><th>11</th><th>12</th></tr><tr><th>4. Кол-во вызовов целевой функции</th><th>1242</th><th>506</th><th>552</th></tr><tr><th>5. Кол-во вычислений градиента</th><th>28</th><th>12</th><th>13</th></tr><tr><th>6. Кол-во вычислений матриц Гессе</th><th>27</th><th>0</th><th>0</th></tr></table>"
      ],
      "text/plain": [
       "<IPython.core.display.HTML object>"
      ]
     },
     "metadata": {},
     "output_type": "display_data"
    },
    {
     "name": "stdout",
     "output_type": "stream",
     "text": [
      "Функция Розенброка с α = 1, ε = 0.01, начальная точка = (5.0, 1.0)\n"
     ]
    },
    {
     "data": {
      "text/html": [
       "<table style=\"border:20px black solid\"><tr><th></th><th>Метод сопряженных градиентов</th><th>Метод Флетчера-Ривса</th><th>Метод Полака-Рибера</th></tr><tr><th>1. Точка минимума</th><th>(1.01, 1.01)</th><th>(1.00, 1.00)</th><th>(1.00, 1.00)</th></tr><tr><th>2. Минимум</th><th>0.00</th><th>0.00</th><th>0.00</th></tr><tr><th>3. Кол-во итераций</th><th>14</th><th>11</th><th>11</th></tr><tr><th>4. Кол-во вызовов целевой функции</th><th>364</th><th>286</th><th>286</th></tr><tr><th>5. Кол-во вычислений градиента</th><th>15</th><th>12</th><th>12</th></tr><tr><th>6. Кол-во вычислений матриц Гессе</th><th>14</th><th>0</th><th>0</th></tr></table>"
      ],
      "text/plain": [
       "<IPython.core.display.HTML object>"
      ]
     },
     "metadata": {},
     "output_type": "display_data"
    },
    {
     "name": "stdout",
     "output_type": "stream",
     "text": [
      "Функция Розенброка с α = 1, ε = 0.01, начальная точка = (20.0, -200.0)\n"
     ]
    },
    {
     "data": {
      "text/html": [
       "<table style=\"border:20px black solid\"><tr><th></th><th>Метод сопряженных градиентов</th><th>Метод Флетчера-Ривса</th><th>Метод Полака-Рибера</th></tr><tr><th>1. Точка минимума</th><th>(0.99, 0.99)</th><th>(1.00, 1.00)</th><th>(1.00, 1.00)</th></tr><tr><th>2. Минимум</th><th>0.00</th><th>0.00</th><th>0.00</th></tr><tr><th>3. Кол-во итераций</th><th>12</th><th>9</th><th>9</th></tr><tr><th>4. Кол-во вызовов целевой функции</th><th>312</th><th>234</th><th>234</th></tr><tr><th>5. Кол-во вычислений градиента</th><th>13</th><th>10</th><th>10</th></tr><tr><th>6. Кол-во вычислений матриц Гессе</th><th>12</th><th>0</th><th>0</th></tr></table>"
      ],
      "text/plain": [
       "<IPython.core.display.HTML object>"
      ]
     },
     "metadata": {},
     "output_type": "display_data"
    },
    {
     "name": "stdout",
     "output_type": "stream",
     "text": [
      "Функция Розенброка с α = 1, ε = 1e-06, начальная точка = (50.0, 2.0)\n"
     ]
    },
    {
     "data": {
      "text/html": [
       "<table style=\"border:20px black solid\"><tr><th></th><th>Метод сопряженных градиентов</th><th>Метод Флетчера-Ривса</th><th>Метод Полака-Рибера</th></tr><tr><th>1. Точка минимума</th><th>(1.000001, 1.000001)</th><th>(1.000000, 1.000000)</th><th>(1.000000, 1.000000)</th></tr><tr><th>2. Минимум</th><th>0.000000</th><th>0.000000</th><th>0.000000</th></tr><tr><th>3. Кол-во итераций</th><th>52</th><th>21</th><th>21</th></tr><tr><th>4. Кол-во вызовов целевой функции</th><th>2392</th><th>966</th><th>966</th></tr><tr><th>5. Кол-во вычислений градиента</th><th>53</th><th>22</th><th>22</th></tr><tr><th>6. Кол-во вычислений матриц Гессе</th><th>52</th><th>0</th><th>0</th></tr></table>"
      ],
      "text/plain": [
       "<IPython.core.display.HTML object>"
      ]
     },
     "metadata": {},
     "output_type": "display_data"
    },
    {
     "name": "stdout",
     "output_type": "stream",
     "text": [
      "Функция Розенброка с α = 1, ε = 1e-06, начальная точка = (12.0, -5.0)\n"
     ]
    },
    {
     "data": {
      "text/html": [
       "<table style=\"border:20px black solid\"><tr><th></th><th>Метод сопряженных градиентов</th><th>Метод Флетчера-Ривса</th><th>Метод Полака-Рибера</th></tr><tr><th>1. Точка минимума</th><th>(1.000000, 0.999999)</th><th>(1.000000, 1.000000)</th><th>(1.000000, 0.999999)</th></tr><tr><th>2. Минимум</th><th>0.000000</th><th>0.000000</th><th>0.000000</th></tr><tr><th>3. Кол-во итераций</th><th>48</th><th>17</th><th>17</th></tr><tr><th>4. Кол-во вызовов целевой функции</th><th>2208</th><th>782</th><th>782</th></tr><tr><th>5. Кол-во вычислений градиента</th><th>49</th><th>18</th><th>18</th></tr><tr><th>6. Кол-во вычислений матриц Гессе</th><th>48</th><th>0</th><th>0</th></tr></table>"
      ],
      "text/plain": [
       "<IPython.core.display.HTML object>"
      ]
     },
     "metadata": {},
     "output_type": "display_data"
    },
    {
     "name": "stdout",
     "output_type": "stream",
     "text": [
      "Функция Розенброка с α = 10, ε = 0.01, начальная точка = (1.0, 1.0)\n"
     ]
    },
    {
     "data": {
      "text/html": [
       "<table style=\"border:20px black solid\"><tr><th></th><th>Метод сопряженных градиентов</th><th>Метод Флетчера-Ривса</th><th>Метод Полака-Рибера</th></tr><tr><th>1. Точка минимума</th><th>(1.00, 1.00)</th><th>(1.00, 1.00)</th><th>(1.00, 1.00)</th></tr><tr><th>2. Минимум</th><th>0.00</th><th>0.00</th><th>0.00</th></tr><tr><th>3. Кол-во итераций</th><th>0</th><th>0</th><th>0</th></tr><tr><th>4. Кол-во вызовов целевой функции</th><th>0</th><th>0</th><th>0</th></tr><tr><th>5. Кол-во вычислений градиента</th><th>1</th><th>1</th><th>1</th></tr><tr><th>6. Кол-во вычислений матриц Гессе</th><th>0</th><th>0</th><th>0</th></tr></table>"
      ],
      "text/plain": [
       "<IPython.core.display.HTML object>"
      ]
     },
     "metadata": {},
     "output_type": "display_data"
    },
    {
     "name": "stdout",
     "output_type": "stream",
     "text": [
      "Функция Розенброка с α = 10, ε = 0.01, начальная точка = (6.0, 7.0)\n"
     ]
    },
    {
     "ename": "KeyboardInterrupt",
     "evalue": "",
     "output_type": "error",
     "traceback": [
      "\u001b[1;31m---------------------------------------------------------------------------\u001b[0m",
      "\u001b[1;31mKeyboardInterrupt\u001b[0m                         Traceback (most recent call last)",
      "\u001b[1;32m~\\AppData\\Local\\Temp/ipykernel_3724/3017189160.py\u001b[0m in \u001b[0;36m<module>\u001b[1;34m\u001b[0m\n\u001b[0;32m     43\u001b[0m               str(startPoint[0]) + ', ' + str(startPoint[1]) + ')')\n\u001b[0;32m     44\u001b[0m \u001b[1;33m\u001b[0m\u001b[0m\n\u001b[1;32m---> 45\u001b[1;33m         \u001b[0mres1\u001b[0m \u001b[1;33m=\u001b[0m \u001b[0mConjGradMethod\u001b[0m\u001b[1;33m(\u001b[0m\u001b[0mfun\u001b[0m\u001b[1;33m[\u001b[0m\u001b[1;36m1\u001b[0m\u001b[1;33m]\u001b[0m\u001b[1;33m,\u001b[0m \u001b[0mfun\u001b[0m\u001b[1;33m[\u001b[0m\u001b[1;36m2\u001b[0m\u001b[1;33m]\u001b[0m\u001b[1;33m,\u001b[0m \u001b[0mfun\u001b[0m\u001b[1;33m[\u001b[0m\u001b[1;36m3\u001b[0m\u001b[1;33m]\u001b[0m\u001b[1;33m,\u001b[0m \u001b[0meps\u001b[0m\u001b[1;33m,\u001b[0m \u001b[0mstartPoint\u001b[0m\u001b[1;33m)\u001b[0m\u001b[1;33m\u001b[0m\u001b[1;33m\u001b[0m\u001b[0m\n\u001b[0m\u001b[0;32m     46\u001b[0m         \u001b[0mres2\u001b[0m \u001b[1;33m=\u001b[0m \u001b[0mFletcherReevesMethod\u001b[0m\u001b[1;33m(\u001b[0m\u001b[0mfun\u001b[0m\u001b[1;33m[\u001b[0m\u001b[1;36m1\u001b[0m\u001b[1;33m]\u001b[0m\u001b[1;33m,\u001b[0m \u001b[0mfun\u001b[0m\u001b[1;33m[\u001b[0m\u001b[1;36m2\u001b[0m\u001b[1;33m]\u001b[0m\u001b[1;33m,\u001b[0m \u001b[0meps\u001b[0m\u001b[1;33m,\u001b[0m \u001b[0mstartPoint\u001b[0m\u001b[1;33m)\u001b[0m\u001b[1;33m\u001b[0m\u001b[1;33m\u001b[0m\u001b[0m\n\u001b[0;32m     47\u001b[0m         \u001b[0mres3\u001b[0m \u001b[1;33m=\u001b[0m \u001b[0mPolakRieberMethod\u001b[0m\u001b[1;33m(\u001b[0m\u001b[0mfun\u001b[0m\u001b[1;33m[\u001b[0m\u001b[1;36m1\u001b[0m\u001b[1;33m]\u001b[0m\u001b[1;33m,\u001b[0m \u001b[0mfun\u001b[0m\u001b[1;33m[\u001b[0m\u001b[1;36m2\u001b[0m\u001b[1;33m]\u001b[0m\u001b[1;33m,\u001b[0m \u001b[0meps\u001b[0m\u001b[1;33m,\u001b[0m \u001b[0mstartPoint\u001b[0m\u001b[1;33m)\u001b[0m\u001b[1;33m\u001b[0m\u001b[1;33m\u001b[0m\u001b[0m\n",
      "\u001b[1;32m~\\AppData\\Local\\Temp/ipykernel_3724/4152079315.py\u001b[0m in \u001b[0;36m__init__\u001b[1;34m(self, fun, grad, hesse, eps, startPoint)\u001b[0m\n\u001b[0;32m     53\u001b[0m             \u001b[0mgamma\u001b[0m \u001b[1;33m=\u001b[0m \u001b[1;36m0\u001b[0m\u001b[1;33m\u001b[0m\u001b[1;33m\u001b[0m\u001b[0m\n\u001b[0;32m     54\u001b[0m             \u001b[1;32mif\u001b[0m \u001b[0mself\u001b[0m\u001b[1;33m.\u001b[0m\u001b[0miterCount\u001b[0m \u001b[1;33m%\u001b[0m \u001b[1;36m2\u001b[0m \u001b[1;33m!=\u001b[0m \u001b[1;36m0\u001b[0m\u001b[1;33m:\u001b[0m\u001b[1;33m\u001b[0m\u001b[1;33m\u001b[0m\u001b[0m\n\u001b[1;32m---> 55\u001b[1;33m                 \u001b[0mgamma\u001b[0m \u001b[1;33m=\u001b[0m \u001b[1;33m-\u001b[0m \u001b[0mnp\u001b[0m\u001b[1;33m.\u001b[0m\u001b[0mdot\u001b[0m\u001b[1;33m(\u001b[0m\u001b[0mnp\u001b[0m\u001b[1;33m.\u001b[0m\u001b[0mdot\u001b[0m\u001b[1;33m(\u001b[0m\u001b[0mh\u001b[0m\u001b[1;33m,\u001b[0m \u001b[0mp\u001b[0m\u001b[1;33m)\u001b[0m\u001b[1;33m,\u001b[0m \u001b[0mnewWk\u001b[0m\u001b[1;33m)\u001b[0m \u001b[1;33m/\u001b[0m\u001b[0;31m \u001b[0m\u001b[0;31m\\\u001b[0m\u001b[1;33m\u001b[0m\u001b[1;33m\u001b[0m\u001b[0m\n\u001b[0m\u001b[0;32m     56\u001b[0m                     \u001b[0mnp\u001b[0m\u001b[1;33m.\u001b[0m\u001b[0mdot\u001b[0m\u001b[1;33m(\u001b[0m\u001b[0mnp\u001b[0m\u001b[1;33m.\u001b[0m\u001b[0mdot\u001b[0m\u001b[1;33m(\u001b[0m\u001b[0mh\u001b[0m\u001b[1;33m,\u001b[0m \u001b[0mp\u001b[0m\u001b[1;33m)\u001b[0m\u001b[1;33m,\u001b[0m \u001b[0mp\u001b[0m\u001b[1;33m)\u001b[0m\u001b[1;33m\u001b[0m\u001b[1;33m\u001b[0m\u001b[0m\n\u001b[0;32m     57\u001b[0m \u001b[1;33m\u001b[0m\u001b[0m\n",
      "\u001b[1;32mc:\\Python39\\lib\\site-packages\\numpy\\core\\overrides.py\u001b[0m in \u001b[0;36mdot\u001b[1;34m(*args, **kwargs)\u001b[0m\n",
      "\u001b[1;31mKeyboardInterrupt\u001b[0m: "
     ]
    }
   ],
   "source": [
    "# import warnings\n",
    "warnings.filterwarnings('ignore')\n",
    "# warnings.filterwarnings('error')\n",
    "\n",
    "epss = [0.01, 1e-6]\n",
    "\n",
    "funs = [['Квадратичная функция', f1, f1Grad, f1Hesse], ['Функция Розенброка с \\u03b1 = 1',\n",
    "                                                        f2, f2Grad, f2Hesse], ['Функция Розенброка с \\u03b1 = 10', f3, f3Grad, f3Hesse]]\n",
    "\n",
    "# funs = [['Функция Розенброка с \\u03b1 = 1', f2, f2Grad, f2Hesse], ['Функция Розенброка с \\u03b1 = 10', f3, f3Grad, f3Hesse]]\n",
    "\n",
    "\n",
    "startPoints = [\n",
    "    [10., 10.], [-100., -100.], [0., 0.], [1000., 1000.],\n",
    "    [5., 1.], [20., -200.0], [50.0, 2.], [12., -5.],\n",
    "    [1., 1.], [6., 7.], [2., 2.], [-5., -5.]\n",
    "]\n",
    "\n",
    "# startPoints = [\n",
    "#     [5., 1.], [20., -200.0], [50.0, 2.], [12., -5.],\n",
    "#     [1., 1.], [6., 7.], [2., 2.], [-5., -5.]\n",
    "# ]\n",
    "\n",
    "for i, fun in enumerate(funs):\n",
    "    for j, eps in enumerate(epss):\n",
    "        ind = 2*(i*len(epss) + j)\n",
    "        # ind = i*len(epss) + j\n",
    "        startPoint = startPoints[ind]\n",
    "\n",
    "        print(fun[0] + ', \\u03b5 = ' + str(eps) + ', начальная точка = (' +\n",
    "              str(startPoint[0]) + ', ' + str(startPoint[1]) + ')')\n",
    "\n",
    "        res1 = ConjGradMethod(fun[1], fun[2], fun[3], eps, startPoint)\n",
    "        res2 = FletcherReevesMethod(fun[1], fun[2], eps, startPoint)\n",
    "        res3 = PolakRieberMethod(fun[1], fun[2], eps, startPoint)\n",
    "        printMethodsInfo([res1, res2, res3])\n",
    "\n",
    "        ind += 1\n",
    "        # ind = i*len(epss) + j\n",
    "        startPoint = startPoints[ind]\n",
    "\n",
    "        print(fun[0] + ', \\u03b5 = ' + str(eps) + ', начальная точка = (' +\n",
    "              str(startPoint[0]) + ', ' + str(startPoint[1]) + ')')\n",
    "\n",
    "        res1 = ConjGradMethod(fun[1], fun[2], fun[3], eps, startPoint)\n",
    "        res2 = FletcherReevesMethod(fun[1], fun[2], eps, startPoint)\n",
    "        res3 = PolakRieberMethod(fun[1], fun[2], eps, startPoint)\n",
    "        printMethodsInfo([res1, res2, res3])\n"
   ]
  },
  {
   "cell_type": "markdown",
   "metadata": {},
   "source": [
    "В зависимости:\n",
    "1. от параметров точности;\n",
    "2. начальной точки;\n",
    "3. выпуклости (переход от квадратичной функции к функции Розенброка);\n",
    "4. овражности функции (параметра α в функции Розенброка)"
   ]
  },
  {
   "cell_type": "markdown",
   "metadata": {},
   "source": [
    "1. Для квадратичной функции лучше метод с дроблением шага, для Розенброка - наискорейший спуск.\n",
    "2. Чем больше точность, тем больше вызовов целевой функции.\n",
    "3. Выпуклость приводит к увеличению кол-во вызовов целевой функции и её градиента.\n",
    "4. Увеличение овражности приводит к увеличению кол-во вызовов целевой функции и её градиента."
   ]
  },
  {
   "cell_type": "code",
   "execution_count": null,
   "metadata": {},
   "outputs": [],
   "source": []
  }
 ],
 "metadata": {
  "kernelspec": {
   "display_name": "Python 3.9.7 64-bit",
   "language": "python",
   "name": "python3"
  },
  "language_info": {
   "codemirror_mode": {
    "name": "ipython",
    "version": 3
   },
   "file_extension": ".py",
   "mimetype": "text/x-python",
   "name": "python",
   "nbconvert_exporter": "python",
   "pygments_lexer": "ipython3",
   "version": "3.9.7"
  },
  "orig_nbformat": 4,
  "vscode": {
   "interpreter": {
    "hash": "81794d4967e6c3204c66dcd87b604927b115b27c00565d3d43f05ba2f3a2cb0d"
   }
  }
 },
 "nbformat": 4,
 "nbformat_minor": 2
}
