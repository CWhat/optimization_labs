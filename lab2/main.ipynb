{
 "cells": [
  {
   "cell_type": "markdown",
   "metadata": {},
   "source": [
    "# Реализуемый алгоритмы\n",
    "1. Метод градиентного спуска с дробным шагом\n",
    "2. Метод наискорейшего спуска\n",
    "# Вспомогательный код"
   ]
  },
  {
   "cell_type": "code",
   "execution_count": 1,
   "metadata": {},
   "outputs": [],
   "source": [
    "import numpy as np\n",
    "import math as m\n",
    "import matplotlib.pyplot as plt"
   ]
  },
  {
   "cell_type": "markdown",
   "metadata": {},
   "source": [
    "Общий класс метода и утилитарные методы:"
   ]
  },
  {
   "cell_type": "code",
   "execution_count": 13,
   "metadata": {},
   "outputs": [],
   "source": [
    "import base64\n",
    "import urllib.parse\n",
    "import io\n",
    "import matplotlib.pyplot as plt\n",
    "from matplotlib.figure import Figure\n",
    "from IPython.display import HTML, display\n",
    "from abc import ABC, abstractmethod\n",
    "\n",
    "\n",
    "class Method(ABC):\n",
    "\n",
    "    # кортеж - (1, 2)\n",
    "    @abstractmethod\n",
    "    def result(self) -> tuple:\n",
    "        pass\n",
    "\n",
    "    # image - показывать ли изображение в таблице\n",
    "    @abstractmethod\n",
    "    def info(self, image=False) -> dict:\n",
    "        pass\n",
    "\n",
    "\n",
    "# В качестве особого ключа будет 'title', который будет указывать название метода\n",
    "titleKey = 'title'\n",
    "minPointKey = '1. Точка минимума'\n",
    "minimumKey = '2. Минимум'\n",
    "iterCountKey = '3. Кол-во итераций'\n",
    "execCountKey = '4. Кол-во вызовов целевой функции'\n",
    "gradCountKey = '5. Кол-во вычислений градиента'\n",
    "imageKey = '6. График приближения'\n",
    "\n",
    "\n",
    "def dictsToTable(dicts: list[dict]):\n",
    "    keys = set()\n",
    "    for dict in dicts:\n",
    "        for key in dict.keys():\n",
    "            keys.add(key)\n",
    "\n",
    "    keys.discard('title')\n",
    "    keys = list(keys)\n",
    "    keys.sort()\n",
    "    # формируем таблицу\n",
    "    table = '<th></th>'\n",
    "    for dict in dicts:\n",
    "        table += '<th>' + dict[titleKey] + '</th>'\n",
    "\n",
    "    table = '<tr>' + table + '</tr>'\n",
    "\n",
    "    for key in keys:\n",
    "        table += '<tr>'\n",
    "        table += '<th>' + str(key) + '</th>'\n",
    "        for dict in dicts:\n",
    "            cellData = ''\n",
    "            if dict.get(key) != None:\n",
    "                cellData = str(dict[key])\n",
    "\n",
    "            table += '<th>' + cellData + '</th>'\n",
    "\n",
    "        table += '</tr>'\n",
    "\n",
    "    display(HTML('<table style=\"border:20px black solid\">' + table + '</table>'))\n",
    "\n",
    "\n",
    "def printMethodsInfo(methods: list[Method], image=True):\n",
    "    dictsToTable([method.info(image) for method in methods])\n",
    "\n",
    "\n",
    "def figureToHtml(fig: Figure):\n",
    "    imgdata = io.BytesIO()\n",
    "    fig.savefig(imgdata, format='png', dpi=500)\n",
    "    imgdata.seek(0)\n",
    "    data = urllib.parse.quote(base64.b64encode(imgdata.read()).decode())\n",
    "    return '<img src=\"data:image/png;base64,%s\"/>' % data\n",
    "\n",
    "\n",
    "def fmtFloat(num: float, eps: float) -> str:\n",
    "    \"\"\"\n",
    "    Возвращает сторку с числом num, округленное до точености eps\n",
    "    Пример: fmtFloat(0.125, 0.01) -> 0.13\n",
    "    \"\"\"\n",
    "    count = -round(m.log10(eps))\n",
    "    return f\"{num:.{count}f}\"\n",
    "\n",
    "\n",
    "def drawPoints(fig: Figure, fun, points: list):\n",
    "    minx = min(points, key=lambda x: x[0])[0]\n",
    "    maxx = max(points, key=lambda x: x[0])[0]\n",
    "    miny = min(points, key=lambda x: x[1])[1]\n",
    "    maxy = max(points, key=lambda x: x[1])[1]\n",
    "\n",
    "    deltax = (maxx - minx) / 10\n",
    "    deltay = (maxy - miny) / 10\n",
    "\n",
    "    if deltax < 0.1:\n",
    "        deltax = 5\n",
    "    if deltay < 0.1:\n",
    "        deltay = 5\n",
    "\n",
    "    minx -= deltax\n",
    "    maxx += deltax\n",
    "    miny -= deltay\n",
    "    maxy += deltay\n",
    "\n",
    "    pointsCount = 300\n",
    "    X = np.linspace(minx, maxx, num=pointsCount)\n",
    "    Y = np.linspace(miny, maxy, num=pointsCount)\n",
    "    X, Y = np.meshgrid(X, Y)\n",
    "    Z = []\n",
    "    for i in range(pointsCount):\n",
    "        ZZ = []\n",
    "        for j in range(pointsCount):\n",
    "            ZZ.append(fun([X[i, j], Y[i, j]]))\n",
    "        Z.append(ZZ)\n",
    "\n",
    "    ax = fig.subplots()\n",
    "    ax.grid()\n",
    "    maxLevels = 100\n",
    "    levels = list(set([fun(x) for x in points[:min(maxLevels, len(points))]]))\n",
    "    levels.sort()\n",
    "\n",
    "    # maxPoints = 1000\n",
    "    # points = points[:min(maxPoints, len(points))]\n",
    "\n",
    "    ax.contour(X, Y, Z, levels=levels)\n",
    "    ax.plot([x[0] for x in points], [x[1]\n",
    "            for x in points], marker='o', markersize=3, color='red')\n",
    "\n",
    "\n",
    "def showImage(fun, points: list, equal: bool = False):\n",
    "    # перед вызовом этой функции нужно написать %matplotlib widget\n",
    "    fig = plt.figure()\n",
    "    drawPoints(fig, fun, points)\n",
    "    figData = figureToHtml(fig)\n",
    "    if equal:\n",
    "        fig.gca().set_aspect('equal')\n",
    "\n",
    "    # fig.show()\n",
    "    # plt.close(fig)\n"
   ]
  },
  {
   "cell_type": "markdown",
   "metadata": {},
   "source": [
    "Минимизируемые функции:"
   ]
  },
  {
   "cell_type": "code",
   "execution_count": 5,
   "metadata": {},
   "outputs": [],
   "source": [
    "def f1(x): return 10 * x[0]**2 - 4*x[0]*x[1] + 7 * \\\n",
    "    x[1]**2 - 4*m.sqrt(5) * (5*x[0]-x[1]) - 16\n",
    "\n",
    "\n",
    "def f1Grad(x): return [-20 * m.sqrt(5) + 20 * x[0] -\n",
    "                       4*x[1], 4*m.sqrt(5) - 4*x[0] + 14*x[1]]\n",
    "\n",
    "\n",
    "def rozenbrok(alpha: float):\n",
    "    # return lambda x: alpha * (x[0]**2 - x[1])**2 + (x[0]-1)**2\n",
    "    return lambda x: alpha * np.power(np.power(x[0], 2) - x[1], 2) + np.power(x[0]-1, 2)\n",
    "\n",
    "\n",
    "def rozenbrokGrad(alpha: float):\n",
    "    # return lambda x: [-2*(1 - x[0]) - 4*x[0]*(-x[0]**2 + x[1])*alpha, 2*(-x[0]**2 + x[1])*alpha]\n",
    "    return lambda x: [-2*(1 - x[0]) - 4*x[0]*(-np.power(x[0], 2) + x[1])*alpha, 2*(-np.power(x[0], 2) + x[1])*alpha]\n",
    "\n",
    "\n",
    "alpha1 = 1\n",
    "alpha2 = 10\n",
    "\n",
    "f2 = rozenbrok(alpha1)\n",
    "f2Grad = rozenbrokGrad(alpha1)\n",
    "\n",
    "f3 = rozenbrok(alpha2)\n",
    "f3Grad = rozenbrokGrad(alpha2)\n"
   ]
  },
  {
   "cell_type": "markdown",
   "metadata": {},
   "source": [
    "Метод золотого сечения для одномерной оптимизации:"
   ]
  },
  {
   "cell_type": "code",
   "execution_count": 4,
   "metadata": {},
   "outputs": [],
   "source": [
    "def methodGoldenRatio(fun, a: float, b: float, eps: float):\n",
    "    tau = (m.sqrt(5) + 1) / 2\n",
    "    ak, bk = a, b\n",
    "    lk = bk - ak\n",
    "    xk1 = bk - (bk - ak) / tau\n",
    "    xk2 = ak + (bk - ak) / tau\n",
    "    y1, y2 = fun(xk1), fun(xk2)\n",
    "\n",
    "    execCount = 2\n",
    "\n",
    "    # while lk >= eps:\n",
    "    while np.abs(bk - ak) >= eps*(np.abs(xk1) + np.abs(xk2)) and execCount <= 5002:\n",
    "        execCount += 1\n",
    "\n",
    "        if y1 >= y2:\n",
    "            ak = xk1\n",
    "            xk1 = xk2\n",
    "            xk2 = ak + bk - xk1\n",
    "            y1 = y2\n",
    "            y2 = fun(xk2)\n",
    "        else:\n",
    "            bk = xk2\n",
    "            xk2 = xk1\n",
    "            xk1 = ak + bk - xk2\n",
    "            y2 = y1\n",
    "            y1 = fun(xk1)\n",
    "        lk = bk - ak\n",
    "    return (ak + bk) / 2, execCount\n"
   ]
  },
  {
   "cell_type": "markdown",
   "metadata": {},
   "source": [
    "Метод градиентного спуска с дробным шагом:"
   ]
  },
  {
   "cell_type": "code",
   "execution_count": 10,
   "metadata": {},
   "outputs": [],
   "source": [
    "class GradDescMethod(Method):\n",
    "\n",
    "    def __init__(self, fun, grad, eps: float, startPoint, funName):\n",
    "        self.points = []\n",
    "        self.iterCount = 0\n",
    "        self.execCount = 0\n",
    "        self.gradCount = 0\n",
    "        self.startPoint = startPoint\n",
    "        self.fun = fun\n",
    "        self.funName = funName\n",
    "\n",
    "        # Параметры дробления шага\n",
    "        # omega = 0.5\n",
    "        omega = 0.6\n",
    "        # delta = 0.5\n",
    "        delta = 0.7\n",
    "        # kappa0 = 1.0\n",
    "        kappa0 = 0.9\n",
    "\n",
    "        self.eps = eps\n",
    "\n",
    "        # Сам метод\n",
    "        kappa = kappa0\n",
    "\n",
    "        xk = startPoint\n",
    "        self.points.append(xk)\n",
    "        lk = eps + 1\n",
    "        while lk >= eps:\n",
    "            self.iterCount += 1\n",
    "\n",
    "            # kappa = kappa0\n",
    "\n",
    "            gradXk = grad(xk)\n",
    "            self.gradCount += 1\n",
    "\n",
    "            fxk = fun(xk)\n",
    "            self.execCount += 1\n",
    "\n",
    "            newXk = [xk[0] - gradXk[0]*kappa, xk[1] - gradXk[1]*kappa]\n",
    "            newFxk = fun(newXk)\n",
    "            self.execCount += 1\n",
    "\n",
    "            while newFxk > fxk - omega * kappa * np.linalg.norm(gradXk)**2:\n",
    "                kappa *= delta\n",
    "                newXk = [xk[0] - gradXk[0]*kappa, xk[1] - gradXk[1]*kappa]\n",
    "                newFxk = fun(newXk)\n",
    "                self.execCount += 1\n",
    "\n",
    "            # lk = np.linalg.norm([newXk[0] - xk[0], newXk[1] - xk[1]])\n",
    "            lk = np.linalg.norm(gradXk)\n",
    "            # print('newXk = ', newXk, ', xk = ', xk, ', lk = ', lk)\n",
    "            xk = newXk\n",
    "            self.points.append(xk)\n",
    "\n",
    "        self.minPoint = xk\n",
    "        self.minimum = fun(xk)\n",
    "\n",
    "        # if len(self.points) <= 100:\n",
    "        # print(self.points)\n",
    "\n",
    "    def result(self) -> tuple:\n",
    "        return self.minPoint, self.minimum\n",
    "\n",
    "    def info(self, image=False) -> dict:\n",
    "        d = {\n",
    "            titleKey: 'Метод градиентного спуска с дробным шагом',\n",
    "            minPointKey: '(' + fmtFloat(self.minPoint[0], self.eps) + ', ' + fmtFloat(self.minPoint[1], self.eps) + ')',\n",
    "            minimumKey: fmtFloat(self.minimum, self.eps),\n",
    "            iterCountKey: self.iterCount,\n",
    "            execCountKey: self.execCount,\n",
    "            gradCountKey: self.gradCount,\n",
    "            # imageKey: figData\n",
    "        }\n",
    "\n",
    "        if image:\n",
    "            fig = plt.figure()\n",
    "            drawPoints(fig, self.fun, self.points)\n",
    "            figData = figureToHtml(fig)\n",
    "            # fig.savefig('Метод градиентного спуска с дробным шагом, eps ' + str(self.eps) + ', start = (' +\n",
    "                    # fmtFloat(self.startPoint[0], self.eps) + ', ' + fmtFloat(self.startPoint[1], self.eps) + ')' + ', ' + self.funName + '.png', dpi=600)\n",
    "            plt.close(fig)\n",
    "            d[imageKey] = figData\n",
    "\n",
    "        return d\n"
   ]
  },
  {
   "cell_type": "markdown",
   "metadata": {},
   "source": [
    "Метод наискорейшего спуска:"
   ]
  },
  {
   "cell_type": "code",
   "execution_count": 11,
   "metadata": {},
   "outputs": [],
   "source": [
    "class StepDescMethod(Method):\n",
    "\n",
    "    def __init__(self, fun, grad, eps: float, startPoint, funName):\n",
    "        self.points = []\n",
    "        self.iterCount = 0\n",
    "        self.execCount = 0\n",
    "        self.gradCount = 0\n",
    "        self.funName = funName\n",
    "        self.startPoint = startPoint\n",
    "        maxVecLen = 400.0\n",
    "\n",
    "        self.eps = eps\n",
    "\n",
    "        self.fun = fun\n",
    "\n",
    "        # Сам метод\n",
    "        xk = startPoint\n",
    "        self.points.append(xk)\n",
    "        lk = eps + 1\n",
    "        while lk >= eps:\n",
    "            self.iterCount += 1\n",
    "\n",
    "            gradXk = grad(xk)\n",
    "            self.gradCount += 1\n",
    "\n",
    "            v = gradXk\n",
    "            if np.linalg.norm(v) >= maxVecLen:\n",
    "                v = np.array(v) / np.linalg.norm(v) * maxVecLen\n",
    "\n",
    "            # phi = lambda l: fun([xk[0] - gradXk[0]*l, xk[1] - gradXk[1]*l])\n",
    "            phi = lambda l: fun([xk[0] - v[0]*l, xk[1] - v[1]*l])\n",
    "            lam, addExec = methodGoldenRatio(\n",
    "                phi,\n",
    "                # вместо 2.5 можно взять другое число\n",
    "                0, 1, eps\n",
    "            )\n",
    "            self.execCount += addExec\n",
    "\n",
    "            # newXk = [xk[0] - gradXk[0]*lam, xk[1] - gradXk[1]*lam]\n",
    "            newXk = [xk[0] - v[0]*lam, xk[1] - v[1]*lam]\n",
    "\n",
    "            # lk = np.linalg.norm([newXk[0] - xk[0], newXk[1] - xk[1]])\n",
    "            lk = np.linalg.norm(gradXk)\n",
    "            xk = newXk\n",
    "            self.points.append(xk)\n",
    "\n",
    "        self.minPoint = xk\n",
    "        self.minimum = fun(xk)\n",
    "\n",
    "    def result(self) -> tuple:\n",
    "        return self.minPoint, self.minimum\n",
    "\n",
    "    def info(self, image=False) -> dict:\n",
    "        d = {\n",
    "            titleKey: 'Метод наискорейшего спуска',\n",
    "            minPointKey: '(' + fmtFloat(self.minPoint[0], self.eps) + ', ' + fmtFloat(self.minPoint[1], self.eps) + ')',\n",
    "            minimumKey: fmtFloat(self.minimum, self.eps),\n",
    "            iterCountKey: self.iterCount,\n",
    "            execCountKey: self.execCount,\n",
    "            gradCountKey: self.gradCount,\n",
    "            # imageKey: figData\n",
    "        }\n",
    "\n",
    "        if image:\n",
    "            fig = plt.figure()\n",
    "            drawPoints(fig, self.fun, self.points)\n",
    "            figData = figureToHtml(fig)\n",
    "            # fig.savefig('Метод наискорейшего спуска, eps ' + str(self.eps) + ', start = (' +\n",
    "                    # fmtFloat(self.startPoint[0], self.eps) + ', ' + fmtFloat(self.startPoint[1], self.eps) + ')' + ', ' + self.funName + '.png', dpi=600)\n",
    "            plt.close(fig)\n",
    "            d[imageKey] = figData\n",
    "\n",
    "        return d\n"
   ]
  },
  {
   "cell_type": "markdown",
   "metadata": {},
   "source": [
    "# Тесты:\n",
    "Одиночный тест"
   ]
  },
  {
   "cell_type": "code",
   "execution_count": 16,
   "metadata": {},
   "outputs": [
    {
     "data": {
      "text/html": [
       "<table style=\"border:20px black solid\"><tr><th></th><th>Метод наискорейшего спуска</th></tr><tr><th>1. Точка минимума</th><th>(1.01, 1.02)</th></tr><tr><th>2. Минимум</th><th>0.00</th></tr><tr><th>3. Кол-во итераций</th><th>42</th></tr><tr><th>4. Кол-во вызовов целевой функции</th><th>596</th></tr><tr><th>5. Кол-во вычислений градиента</th><th>42</th></tr></table>"
      ],
      "text/plain": [
       "<IPython.core.display.HTML object>"
      ]
     },
     "metadata": {},
     "output_type": "display_data"
    },
    {
     "data": {
      "application/vnd.jupyter.widget-view+json": {
       "model_id": "4ae06a19f6134b2cbfe87d631834a422",
       "version_major": 2,
       "version_minor": 0
      },
      "image/png": "[encoded data removed]",
      "text/html": [
       "\n",
       "            <div style=\"display: inline-block;\">\n",
       "                <div class=\"jupyter-widgets widget-label\" style=\"text-align: center;\">\n",
       "                    Figure\n",
       "                </div>\n",
       "                <img src='data:image/png;base64,iVBORw0KGgoAAAANSUhEUgAAAoAAAAHgCAYAAAA10dzkAAAAOXRFWHRTb2Z0d2FyZQBNYXRwbG90bGliIHZlcnNpb24zLjYuMCwgaHR0cHM6Ly9tYXRwbG90bGliLm9yZy89olMNAAAACXBIWXMAAA9hAAAPYQGoP6dpAAAk5klEQVR4nO3dfZBdZZ0n8N+5nU7nhU5I0gkJQwNBnUIHMSqoU+xa0SHAKjWDU8u4M0yVUi6rM8EBqS2V3S2ZrJaBWcqixhdAd32ZrWJkyhlEd9VJrzVAMcqYAZmSWkCyM2hISMgLdIcEmpt7z/5x+96k7e4kpO/tc+59Pp+qW33P6Xu7f32S0F+e8/yeJ8vzPA8AAJJRKboAAADmlgAIAJAYARAAIDECIABAYgRAAIDECIAAAIkRAAEAEiMAAgAkRgAEAEiMAAgAkBgBEAAgMQIgAEBiBEAAgMQIgAAAiREAAQASIwACACRGAAQASIwACACQGAEQACAxAiAAQGIEQACAxAiAAACJEQABABIjAAIAJEYABABIjAAIAJAYARAAIDECIABAYgRAAIDECIAAAIkRAAEAEiMAAgAkRgAEAEiMAAgAkBgBEAAgMQIgAEBiBEAAgMQIgAAAiREAAQASIwACACRGAAQASIwACACQGAEQACAxAiAAQGIEQACAxAiAAACJEQABABIjAAIAJEYABABIjAAIAJAYARAAIDECIABAYgRAAIDECIAAAIkRAAEAEiMAAgAkZl7RBQCzV6/XY+fOnTE4OBhZlhVdDkwrz/M4cOBAnH766VGpGH+AIgmA0AN27twZw8PDRZcBJ2T79u1xxhlnFF0GJE0AhB4wODgYEY1frEuWLCm4mpNTrVZjy5Ytcckll0R/f3/R5ZRKr1ybsbGxGB4ebv19BYojAEIPaN72XbJkSVcHwEWLFsWSJUu6OuR0Qq9dG9MUoHgmYQAAJEYABABIjAAIAJAYARAAIDECIABAYgRAAIDECIBQAjt27Ig//MM/jBUrVsTChQvjjW98Y/zjP/5j0WUB0KOsAwgFe/755+Oiiy6Kd73rXfH9738/Vq5cGU899VQsW7as6NIA6FECIBTslltuieHh4fja177WOrd27doCKwKg1wmAULDvfOc7cemll8aVV14Z999/f/zar/1a/PEf/3Fcc801M75nfHw8xsfHW8djY2MR0dgxolqtdrzmTmjW3a31d1KvXJturx96SZbneV50EZCyBQsWRETEDTfcEFdeeWVs3bo1rrvuurjjjjviAx/4wLTv+dM//dPYtGnTlPN33XVXLFq0qKP1wsk6dOhQ/MEf/EGMjo527ZaF0CsEQCjY/Pnz44ILLogf/ehHrXN/8id/Elu3bo0f//jH075nuhHA4eHh2Lt3b9f+Yq1WqzEyMhIbNmzoif1u26lXrs3Y2FgMDQ0JgFACbgFDwdasWRNveMMbJp17/etfH3/9138943sGBgZiYGBgyvn+/v6uDggRvfEzdEq3X5turh16jWVgoGAXXXRRPPnkk5PO/fznP4+zzjqroIoA6HUCIBTsYx/7WDz00EPx2c9+NrZt2xZ33XVXfPnLX46NGzcWXRoAPUoAhIJdeOGFcc8998Rf/uVfxnnnnRef/vSn47bbbourrrqq6NIA6FHmAEIJXH755XH55ZcXXQYAiTACCACQGAEQACAxAiAAQGIEQACAxAiAAACJEQABABIjAAIAJEYABABIjAAIAJAYARAAIDECIABAYgRAAIDECIAAAIkRAAEAEiMAAgAkRgAEAEiMAAgAkBgBEAAgMQIgAEBiBEAAgMQIgADMifzwL4ouAZggAAIwJ/IXPlZ0CcAEARCAuVHfX3QFwAQBEICOy/NXIvLRossAJgiAAHRefV/RFQBHEQAB6Lz6nqIrAI4iAALQeTUjgFAmAiAAnVffW3QFwFEEQAA6TwCEUhEAAei4XACEUhEAAeg8ARBKRQAEoPNqAiCUiQAIQOcZAYRSEQAB6DwBEEpFAASgo/J8PCI/UHQZwFEEQAA6q7UNXH+hZQBHCIAAdFZtYhu4yvJi6wBaBEAAOqs5AlhZUWwdQIsACEBn1ZsjgEPF1gG0CIAAdFazA9gtYCgNARCAjmptA+cWMJSGAAhAZ03sApK5BQylIQAC0FnNOYB9RgChLARAADqr1QVsDiCUhQAIQGe15gC6BQxlIQAC0DF5/lJEfrBxoAkESkMABKBzmruAxEBEtrjQUoAjBEAAOqc1/28osiwrthagRQAEoHNaHcDm/0GZCIAAdE6rAWRlsXUAkwiAAHRMXtMBDGUkAALQObaBg1ISAAHonIk5gFmfW8BQJgIgAJ3T6gI2AghlIgAC0DmtW8Criq0DmEQABKAj8jw/shC0EUAoFQEQgM7ID0bEeOO5OYBQKgIgAJ3RXAQ6WxxZtrDYWoBJBEAAOqNuDUAoKwEQgM5ozf8TAKFsBEAomZtvvjmyLIvrr7++6FJgdowAQmkJgFAiW7dujTvvvDPOP//8okuBWcubAbBPAISyEQChJF588cW46qqr4itf+UosW7as6HJg9iYCYFbRAQxlM6/oAoCGjRs3xnvf+964+OKL4zOf+cwxXzs+Ph7j4+Ot47GxsYiIqFarUa1WO1pnpzTr7tb6O6lbr03l8J7IIqKWL4u8i/9uQi8SAKEEvvnNb8YjjzwSW7duPaHXb968OTZt2jTl/JYtW2LRokXtLm9OjYyMFF1CaXXbtfnXv/H/4tRTIrY+8nQ898L34tChQ0WXBEzI8jzPiy4CUrZ9+/a44IILYmRkpDX3b/369bFu3bq47bbbpn3PdCOAw8PDsXfv3liyZMlclN121Wo1RkZGYsOGDdHf3190OaXSrdem8vy7I6vvjtrSuyPmnRdjY2MxNDQUo6OjXfv3FHqFEUAo2MMPPxzPPfdcvOUtb2mdq9Vq8cADD8QXvvCFGB8fj76+vknvGRgYiIGBgSlfq7+/v6sCwnR64WfolG66Nnlej7y+LyIi5s1fHVlf99QOKRAAoWC/9Vu/FT/72c8mnbv66qvj3HPPjU984hNTwh90hfyFiDjceG4fYCgdARAKNjg4GOedd96kc4sXL44VK1ZMOQ9dozaxBEx2amTZ/GJrAaawDAwA7dfcB9gagFBKRgChhO67776iS4DZmZj/ZxcQKCcjgAC0X3ME0CLQUEoCIABtl9fsAwxlJgAC0H4TI4CZAAilJAAC0H4T+wBrAoFyEgABaL9mAKysKrYOYFoCIADtV2s2gVgEGspIAASgrfK8GpE/3zjQBQylJAAC0F7NNQCjL6KyrNBSgOkJgAC0V2v+34rIMr9moIz8ywSgvWoWgYayEwABaK+jRgCBchIAAWiv1hqARgChrARAANoqb+0DbBFoKCsBEID2mtgHODMHEEpLAASgvZojgG4BQ2kJgAC0V6sJxC1gKCsBEID2agVAI4BQVgIgAG2T1w9F5AcbB0YAobQEQADapzn6ly2MrHJKsbUAMxIAAWgfS8BAVxAAAWifum3goBsIgAC0T80IIHQDARCAtslb28AJgFBmAiAA7TNxC9guIFBuAiAA7WMRaOgKAiAA7VNrBsBVxdYBHJMACED7tPYBNgIIZSYAAtAWeV6PqO9rHJgDCKUmAALQHvkLEXG48byyoshKgOMQAAFoj+YagNmyyLL+YmsBjkkABKA9WmsAuv0LZScAAtAe9ecaHy0BA6UnAALQHjVrAEK3EAABaIu8tQSMNQCh7ARAANqjtQ2cEUAoOwEQgPZobQOnCQTKTgAEoD2ay8AYAYTSEwABaA/LwEDXEAABmLU8H4/IxxoHFU0gUHYCIACzV5tYAzDmR2SDhZYCHJ8ACMDsHdUAkmVZsbUAxyUAAjB7rTUAzf+DbiAAAjB7dR3A0E0EQABmLa9ZAxC6iQAIwOw1dwFxCxi6ggAIwOy1bgELgNANBEAAZq+1C4g1AKEbCIAAzF6rC3hFsXUAJ0QABGBW8rweUd/XOHALGLqCAAjA7OQvRMThxvOKEUDoBgIgALPT3AYuWxZZNr/YWoATIgACMDvNbeD6NIBAtxAAAZgdu4BA1xEAAZidmgAI3UYABGBWcreAoesIgADMTr3RBJIZAYSuIQACMDs128BBtxEAAZid1i4gbgFDtxAAAZgdXcDQdQRAAE5anr8UkR9sHFSMAEK3EAChYJs3b44LL7wwBgcHY9WqVXHFFVfEk08+WXRZcGKa8/+yhRHZ4mJrAU6YAAgFu//++2Pjxo3x0EMPxcjISFSr1bjkkkvi4MGDRZcGxzfRARyVociyrNhagBM2r+gCIHU/+MEPJh1//etfj1WrVsXDDz8c73znOwuqCk5QXQcwdCMjgFAyo6OjERGxfPnygiuBE9BaAsb8P+gmRgChROr1elx//fVx0UUXxXnnnTfj68bHx2N8fLx1PDY2FhER1Wo1qtVqx+vshGbd3Vp/J5X52mSHd0clIurZ8qgdp74y1g+pEgChRDZu3BiPPfZYPPjgg8d83ebNm2PTpk1Tzm/ZsiUWLVrUqfLmxMjISNEllFYZr82b1j4aZ66KePKp/bFt5/eO+dpDhw7NUVXA8WR5nudFFwFEXHvttXHvvffGAw88EGvXrj3ma6cbARweHo69e/fGkiVLOl1qR1Sr1RgZGYkNGzZEf39/0eWUSpmvTWXsw5FVH4z64k9HvuB3j/nasbGxGBoaitHR0a79ewq9wgggFCzP8/joRz8a99xzT9x3333HDX8REQMDAzEwMDDlfH9/f+kCwqvVCz9Dp5Tx2tTzvRER0Td/dWTHqa1stUPKBEAo2MaNG+Ouu+6Ke++9NwYHB2PXrl0REbF06dJYuHBhwdXBcegChq6kCxgKdvvtt8fo6GisX78+1qxZ03rcfffdRZcGx5TnhyPq+xsHuoChqxgBhIKZhkvXqu+NiDwi+iIqy4quBngVjAACcHLqjfl/UVkRWdZXbC3AqyIAAnByLAINXUsABODkNPcB7hsqtg7gVRMAATg5OoChawmAAJyU3C1g6FoCIAAnZ2IEMHMLGLqOAAjAyXELGLqWAAjAyXELGLqWAAjAq5bn+ZERwD4jgNBtBEAAXr38hYioNp67BQxdRwAE4NVr3v7NTo0sm19sLcCrJgAC8Oq5/QtdTQAE4NVr7gLi9i90JQEQmOyZZyL+7u8aH2EmNUvAQDcTAIGW+p/9WeTDwxHvfnfEmWdG3HxzxEsvFV0WJZS3bgFbAga60byiCwDKoXbzLVG58ZORNU/kecSNNzYeS5dGrFkTcfrpjY9HP44+NzhY5I/AXJq4BZwZAYSuJAACEc88Mzn8/arR0cbjiSeO/XUWL54+GP5qYDz11Ihsxu9GN3ALGLqaAAjE//3c1+INM33yq1+NeMc7Ip59NmLnzsbHX33s3Bnx4osRBw9GbNvWeBzLwMCUUFhZtSrO3LMnsr6+iOHhxvmhoYiKmSql5BYwdDUBEBL3yng1dt7232cOgBs2RJxxRsTrX3/sL/Tii1ND4XRh8fnnI8bHI55+uvGY0BcRb46I+Pznj3zNefMiVq8+9m3nNWsiVq1qvJa5U9/b+GgEELqS/2JC4r74u/81rst/Of0nr7qqEf5OxCmnRLzudY3Hsbz0UsSuXVOCYf2ZZ2LPz34Wqw4fjmzXrog9eyIOH250Ix+vI7lSaYTAmW45N5+vXh0x36LFs5XXX4zIDzYOBEDoSgIgJGz/rufjvO99Y+blAH7nd9r/TRcujFi7tvE4Sq1ajYe+9714z3veE/39/RGvvBKxe/fMt5ybz3fvjqjXG6Fy166In/702N9/xYrjz1Fcs6ZRJ9Nr3v7NFkdWWVxsLcBJEQAhYbe8+xNxc2yf+QW/+ZtzV8yvmj+/MRdwePjYr6vVGqOFM912bp7btSuiWo3Yt6/xeOyxY3/dZufz8cJiip3PdQ0g0O0EQEjUs/+8K/7V4/9n5s7f973vxG//Fqmvr3Frd/XqiDe/eebX1esR+/cff47izp0RL798cp3PxwqMy5b1TudzzS4g0O0EQEjUn118Y3wu/mXmF/z+789dMXOhUml0FQ8NRbzxjTO/Ls8bwe9EGloOHDj5zueZwmI3dD7bBxi6ngAICXpu+95Y/i+Pzzz6F1Hs7d8iZVljncJTT331nc8zBcYZOp+nNW9exGmnTQqGlVWr4qy9eyPL8yNL5BTY+dzaBaRiCRjoVgIgJOhTv31z3BwPz/yCK67ojtu/RTvRzueXX27MQTzWHMVnnz3S+bxjR+MxoS8i1kVE3H77ka9ZqUSsXHn8HVo60fk8cQs4swYgdC0BEBJzcOxQrHj0R7E0Dk/7+TwisqPX4mP2FiyIOPvsxuNYqtUjnc9HBcP6jh3x3D/9U6yq16NydOfz7t2Nx6OPHvvrNjufj9XQsmZNxKJFJ/bzbP+XiJ8fijg/izhO9gXKSQCExPy3q78Y18YjM97+zc480+hfUfr7G9f+V65/rVqNf5hYIqfS3z+58/lYcxSfffbkO59nCosjI5Fd9zeR1SPyyn+I+HJEfOhDnbsmQEcIgJCQer0ef//tn8SNMT7t5/OIyL74xbktilfvZDufjxUYX3rphDufm//zkNXrER/+cMSll/qfBugyAiAk5H/dsSUij3g0huJtsXfSKGAeEYdPOSX6L7+8qPJot9l0Pk8XFrdvbwTFo9VqjQ5oARC6igAICfkfN94VERH/JVsff5t/KyIaozn5xKP/wIGiSqNIJ9r5/MwzkZ91VmPkr6mvL+K1r+10hUCblXyxKaBd9u7YF4cOHBm9uTT7t/GTGIqXIoufxFB85wv/u8Dq6ApnnBHxpf8ced/EcV9fxJ13Gv2DLmQEEBJxx3/8iynn/ku2vvEki/jbP7psTuuhS33gosgvPDvy7Wuj8ta/EP6gSwmAkIi/v+cnM37uXf/uoqiUffcJyqG2O+L0/oi1vxGxTPiDbuW/+JCA3b/YE4dfmX7dv4iIG77yR3NYDd0stw0c9AQBEBLwN3/+vRk/95u/fUEsWDQwh9XQ1SYCYFYRAKGbCYCQgL+/5x+m/0QW8Z/uun5Oa6HLTWwDZx9g6G4CICRg7479055//8d/x+gfr07rFrAACN1MAIQe98p4NWrV2pTzi5cuig999qoCKqKrGQGEniAAQo97+eDL056/7cFPR5bNtCMwTJXnr0TkzzcONIFAVxMAocctPGVBVPom/1O/4csfjrN/48yCKqJr1fdOPOmPyE4tshJglgRA6HH98/vjtgc/HYPLTomBhfPjhq98JP7Nv7+46LLoRrWJ+X+Vocgyvz6gm1kIGhLw+rf/enz9qT+PBYsGYv6C+UWXQ7eq7258dPsXup4ACIlYsnyw6BLods0OYA0g0PWM4QNwQvKaAAi9QgAE4MTUG0vAZNYAhK4nAAJwYlprAJoDCN1OAATgxEyMAGoCge4nAAJwYjSBQM8QAAE4rjyvRtT3NQ4EQOh6AiAAx9cMf9EXUVleaCnA7AmAABxfbWIRaLuAQE/wrxiA42vO/7MEDPQEARCA49MAAj1FAATguPLWGoACIPQCARCA47MLCPQUARCA46vbBQR6iQAIwPHVNIFALxEAATi+ujmA0EsEQACOKc8P2wUEeowACCXxxS9+Mc4+++xYsGBBvP3tb4+f/OQnRZcEDfW9EZFHYxeQZUVXA7SBAAglcPfdd8cNN9wQN910UzzyyCPxpje9KS699NJ47rnnii4Njrr9OxRZ1ldsLUBbCIBQAp/73Ofimmuuiauvvjre8IY3xB133BGLFi2Kr371q0WXBhpAoAcJgFCwV155JR5++OG4+OKLW+cqlUpcfPHF8eMf/7jAymCCBhDoOfOKLgBSt3fv3qjVanHaaadNOn/aaafFE088Me17xsfHY3x8vHU8NjYWERHVajWq1Wrniu2gZt3dWn8nFX1tsuqzUYmIegxFbRY1+LOF8hAAoQtt3rw5Nm3aNOX8li1bYtGiRQVU1D4jIyNFl1BaRV2b89c+Emetivj5tufjqZ3fO+mvc+jQoTZWBcyGAAgFGxoair6+vti9e/ek87t3747Vq1dP+54bb7wxbrjhhtbx2NhYDA8PxyWXXBJLlizpaL2dUq1WY2RkJDZs2BD9/f1Fl1MqRV+byth3I6oRv37uRfG6de856a/THKkGiicAQsHmz58fb33rW+OHP/xhXHHFFRERUa/X44c//GFce+21075nYGAgBgYGppzv7+/v+vDUCz9DpxR1bep5owmkb/6ayGbx/f25QnkIgFACN9xwQ3zgAx+ICy64IN72trfFbbfdFgcPHoyrr7666NJAEwj0IAEQSuD9739/7NmzJz71qU/Frl27Yt26dfGDH/xgSmMIzLU8r0bU9zcOBEDoGQIglMS111474y1fKEx9XzR2AZkXUVledDVAm1gHEICZ1SaakypDkWV+ZUCv8K8ZgJk15//ZBQR6igAIwMw0gEBPEgABmFFeMwIIvUgABGBm9cYagJkRQOgpAiAAM2s1gQiA0EsEQABmpgkEepIACMDMappAoBcJgABMK89ficifbxwYAYSeIgACML2JBpCI/ohsWaGlAO0lAAIwvaNu/2ZZVmwtQFsJgABMTwMI9CwBEIDpWQIGepYACMC08tYI4MpiCwHaTgAEYHoTcwCzymkFFwK0mwAIwPSMAELPEgABmF4zABoBhJ4jAAIwveYyMH0CIPQaARCAKfL8pYh8rHGgCxh6jgAIwFS1iV1AsoUR2WCxtQBtJwACMFW9uQbgSruAQA8SAAGY6qht4IDeIwACMJVt4KCnCYAATJHbBg56mgAIwFQTI4CZJWCgJwmAAExVswg09DIBEICpzAGEniYAAjBJnudHbQMnAEIvEgABmCw/GJEfajwXAKEnCYAATFbf1fiYDUZWWVRsLUBHCIAATGYRaOh5AiAAk2kAgZ4nAAIwmUWgoecJgABMkhsBhJ4nAAIw2cQIYGYRaOhZAiAAk9X3ND7aBg56lgAIwGStOYACIPQqARCAljyvHzUCaA4g9CoBEIAj8hciotp4XhkqshKggwRAAI6oTewCUlkeWTa/2FqAjhEAATjC/D9IggAIwBGtNQAFQOhlAiAAR9TtAwwpEAABaMltAwdJEAABOGJiBDBzCxh6mgAIwBE1cwAhBQIgAEfU3QKGFAiAAERERJ6/ElHf3zjoW11sMUBHCYAANNT3RkQeEf0R2akFFwN0kgAIQEOrA3hlZJlfD9DL/AsHoKE5/08DCPQ8ARCAhmYHsG3goOcJgABERETeGgHUAQy9TgAEoGFiDmBmBBB6ngAIQEPdItCQCgEQgIZWF7AACL1OAASgwQggJEMABCDy+osR+cHGgW3goOcJgAAcWQMwG4yssqjYWoCOEwABOGr+n9E/SIEACAV6+umn40Mf+lCsXbs2Fi5cGK95zWvipptuildeeaXo0kiNNQAhKfOKLgBS9sQTT0S9Xo8777wzXvva18Zjjz0W11xzTRw8eDBuvfXWossjJa1dQFYXWwcwJwRAKNBll10Wl112Wev4nHPOiSeffDJuv/12AZA5ZRcQSItbwFAyo6OjsXz58qLLIDV2AYGkGAGEEtm2bVt8/vOfP+7o3/j4eIyPj7eOx8bGIiKiWq1GtVrtaI2d0qy7W+vvpLm4NpXDz0YWEYdjKKJD38efLZSHAAgd8MlPfjJuueWWY77m8ccfj3PPPbd1vGPHjrjsssviyiuvjGuuueaY7928eXNs2rRpyvktW7bEokXdvYTHyMhI0SWUVievzcVv3h4L50f86MdPxQsHx4//hpNw6NChjnxd4NXL8jzPiy4Ces2ePXti3759x3zNOeecE/Pnz4+IiJ07d8b69evjHe94R3z961+PSuXYszOmGwEcHh6OvXv3xpIlS2b/AxSgWq3GyMhIbNiwIfr7+4sup1Q6fm3yWlT2vzmyqEVt2d91bCmYsbGxGBoaitHR0a79ewq9wgggdMDKlStj5cqVJ/TaHTt2xLve9a5461vfGl/72teOG/4iIgYGBmJgYGDK+f7+/q4PT73wM3RKp65NXtsfedQioi/mzV8dWdbX9u8REf5coUQEQCjQjh07Yv369XHWWWfFrbfeGnv27Gl9bvVqy3EwR5p7AFeGOhb+gHIRAKFAIyMjsW3btti2bVucccYZkz5ndgZzpmYJGEiNZWCgQB/84Acjz/NpHzBnmmsAWgIGkiEAAiQur+1qPOkTACEVAiBA6ia2gbMINKRDAARIXWsbOAEQUiEAAqSueQvYCCAkQwAESF1zGRgjgJAMARAgYXn9YET+YuPACCAkQwAESFlz/l+2OLLKKcXWAswZARAgZTVrAEKKBECAlOkAhiQJgAAp0wEMSRIAARKWGwGEJAmAACmbmAOY9a0uuBBgLgmAAClrjgBWVhVbBzCnBECAlDW7gI0AQlIEQIBE5fnhiPrexoEmEEiKAAiQqvreiKhHRF9EZUXR1QBzSAAESFVrEeiVkWV9xdYCzCkBECBV9Yk1AM3/g+QIgACpqukAhlQJgACJOrIItBFASI0ACJCq5iLQOoAhOQIgQKpsAwfJEgABUtWaAygAQmoEQIAE5XkeUdMFDKkSAAFSlB+IiJcbz90ChuQIgAApao7+ZadGli0othZgzgmAACnSAAJJEwABUtQcAdQAAkkSAAFSZAQQkiYAAiQonxgBzHQAQ5IEQIAU1a0BCCkTAAFS1FoDUACEFAmAACmyCwgkTQAESEyevxyRv9A4MAcQkiQAAqSm9tzEkwUR2dJCSwGKIQACpKZ+ZP5flmXF1gIUQgAESI35f5A8ARAgNa0OYPP/IFUCIEBicruAQPIEQIDUNHcBqRgBhFQJgACpMQIIyRMAAVJjDiAkTwAESEie1yLqexoHuoAhWQIgQErqeyKiHhHzIipDRVcDFEQABEhJaw3AlZFlfcXWAhRGAARISd38P0AABEiLXUCAEAABkpLXnm08MQIISRMAAVIysQZgZg1ASJoACJCS5hqAdgGBpAmAAClpNYEYAYSUCYAAicjz/KgmECOAkDIBECAV+fMRUY2ILKJvVdHVAAUSAAFS0ewArqyILJtfbC1AoQRAgFS0GkDM/4PUCYAAqZhYAsYagIAACJCIvGYbOKBBAARIxUQAzHQAQ/IEQIBUWAMQmCAAAqSitQbgmmLrAAonAAIkIM9zI4BAiwAIJTE+Ph7r1q2LLMvi0UcfLbocek0+FpG/1HiuCQSSJwBCSXz84x+P008/vegy6FXNDuDs1MiyBcXWAhROAIQS+P73vx9btmyJW2+9tehS6FV1S8AAR8wrugBI3e7du+Oaa66Jb3/727Fo0aITes/4+HiMj4+3jkdHRyMiYv/+/VGtVjtSZ6dVq9U4dOhQ7Nu3L/r7+4sup1TacW2yl5+KyqFa5P2nRj3b1+YKT8yBAwciYmI+IlAoARAKlOd5fPCDH4yPfOQjccEFF8TTTz99Qu/bvHlzbNq0acr5tWvXtrlCes8/R8T/LLSCAwcOxNKlSwutAVKX5f5XDNruk5/8ZNxyyy3HfM3jjz8eW7Zsib/6q7+K+++/P/r6+uLpp5+OtWvXxk9/+tNYt27djO/91RHAer0e+/fvjxUrVkSWZe36MebU2NhYDA8Px/bt22PJkiVFl1MqvXJt8jyPAwcOxOmnnx6VihlIUCQBEDpgz549sW/fsW+znXPOOfF7v/d78d3vfndSaKvVatHX1xdXXXVVfOMb3+h0qaUxNjYWS5cujdHR0a4OOZ3g2gDtJgBCgX75y1/G2NhY63jnzp1x6aWXxre+9a14+9vfHmeccUaB1c0tIWdmrg3QbuYAQoHOPPPMScennHJKRES85jWvSSr8ATC3TMIASmFgYCBuuummGBgYKLqU0nFtgHZzCxgAIDFGAAEAEiMAAgAkRgAEAEiMAAgAkBgBECjU5s2b48ILL4zBwcFYtWpVXHHFFfHkk08WXVYp3XzzzZFlWVx//fVFlwJ0OQEQKNT9998fGzdujIceeihGRkaiWq3GJZdcEgcPHiy6tFLZunVr3HnnnXH++ecXXQrQAywDA5TKnj17YtWqVXH//ffHO9/5zqLLKYUXX3wx3vKWt8SXvvSl+MxnPhPr1q2L2267reiygC5mBBAoldHR0YiIWL58ecGVlMfGjRvjve99b1x88cVFlwL0CFvBAaVRr9fj+uuvj4suuijOO++8ossphW9+85vxyCOPxNatW4suBeghAiBQGhs3bozHHnssHnzwwaJLKYXt27fHddddFyMjI7FgwYKiywF6iDmAQClce+21ce+998YDDzwQa9euLbqcUvj2t78d73vf+6Kvr691rlarRZZlUalUYnx8fNLnAE6UAAgUKs/z+OhHPxr33HNP3HffffG6172u6JJK48CBA/GLX/xi0rmrr746zj333PjEJz7hNjlw0twCBgq1cePGuOuuu+Lee++NwcHB2LVrV0RELF26NBYuXFhwdcUaHBycEvIWL14cK1asEP6AWdEFDBTq9ttvj9HR0Vi/fn2sWbOm9bj77ruLLg2gZ7kFDACQGCOAAACJEQABABIjAAIAJEYABABIjAAIAJAYARAAIDECIABAYgRAAIDECIAAAIkRAAEAEiMAAgAkRgAEAEiMAAgAkBgBEAAgMQIgAEBiBEAAgMQIgAAAiREAAQASIwACACRGAAQASIwACACQGAEQACAxAiAAQGIEQACAxAiAAACJEQABABIjAAIAJEYABABIjAAIAJAYARAAIDECIABAYv4/9IYnobIs3nQAAAAASUVORK5CYII=' width=640.0/>\n",
       "            </div>\n",
       "        "
      ],
      "text/plain": [
       "Canvas(toolbar=Toolbar(toolitems=[('Home', 'Reset original view', 'home', 'home'), ('Back', 'Back to previous …"
      ]
     },
     "metadata": {},
     "output_type": "display_data"
    }
   ],
   "source": [
    "%matplotlib widget\n",
    "\n",
    "import warnings\n",
    "warnings.filterwarnings('ignore')\n",
    "# warnings.filterwarnings('default')\n",
    "\n",
    "eps = 0.01\n",
    "# res = StepDescMethod(f3, f3Grad, 1e-2, [6, 7], '')\n",
    "res = StepDescMethod(f2, f2Grad, 1e-2, [5, 1], '')\n",
    "info = res.info(image=False)\n",
    "# dictsToTable([info])\n",
    "printMethodsInfo([res], image=False)\n",
    "showImage(res.fun, res.points, True)\n"
   ]
  },
  {
   "cell_type": "markdown",
   "metadata": {},
   "source": [
    "Большой тест"
   ]
  },
  {
   "cell_type": "code",
   "execution_count": 14,
   "metadata": {},
   "outputs": [
    {
     "name": "stdout",
     "output_type": "stream",
     "text": [
      "Квадратичная функция, ε = 0.01, начальная точка = (10.0, 10.0)\n"
     ]
    },
    {
     "data": {
      "text/html": [
       "<table style=\"border:20px black solid\"><tr><th></th><th>Метод градиентного спуска с дробным шагом</th><th>Метод наискорейшего спуска</th></tr><tr><th>1. Точка минимума</th><th>(2.24, 0.00)</th><th>(2.24, 0.00)</th></tr><tr><th>2. Минимум</th><th>-66.00</th><th>-66.00</th></tr><tr><th>3. Кол-во итераций</th><th>11</th><th>8</th></tr><tr><th>4. Кол-во вызовов целевой функции</th><th>30</th><th>132</th></tr><tr><th>5. Кол-во вычислений градиента</th><th>11</th><th>8</th></tr></table>"
      ],
      "text/plain": [
       "<IPython.core.display.HTML object>"
      ]
     },
     "metadata": {},
     "output_type": "display_data"
    },
    {
     "name": "stdout",
     "output_type": "stream",
     "text": [
      "Квадратичная функция, ε = 0.01, начальная точка = (-100.0, -100.0)\n"
     ]
    },
    {
     "data": {
      "text/html": [
       "<table style=\"border:20px black solid\"><tr><th></th><th>Метод градиентного спуска с дробным шагом</th><th>Метод наискорейшего спуска</th></tr><tr><th>1. Точка минимума</th><th>(2.24, -0.00)</th><th>(2.24, -0.00)</th></tr><tr><th>2. Минимум</th><th>-66.00</th><th>-66.00</th></tr><tr><th>3. Кол-во итераций</th><th>14</th><th>11</th></tr><tr><th>4. Кол-во вызовов целевой функции</th><th>36</th><th>177</th></tr><tr><th>5. Кол-во вычислений градиента</th><th>14</th><th>11</th></tr></table>"
      ],
      "text/plain": [
       "<IPython.core.display.HTML object>"
      ]
     },
     "metadata": {},
     "output_type": "display_data"
    },
    {
     "name": "stdout",
     "output_type": "stream",
     "text": [
      "Квадратичная функция, ε = 1e-06, начальная точка = (0.0, 0.0)\n"
     ]
    },
    {
     "data": {
      "text/html": [
       "<table style=\"border:20px black solid\"><tr><th></th><th>Метод градиентного спуска с дробным шагом</th><th>Метод наискорейшего спуска</th></tr><tr><th>1. Точка минимума</th><th>(2.236068, -0.000000)</th><th>(2.236068, -0.000000)</th></tr><tr><th>2. Минимум</th><th>-66.000000</th><th>-66.000000</th></tr><tr><th>3. Кол-во итераций</th><th>30</th><th>11</th></tr><tr><th>4. Кол-во вызовов целевой функции</th><th>70</th><th>390</th></tr><tr><th>5. Кол-во вычислений градиента</th><th>30</th><th>11</th></tr></table>"
      ],
      "text/plain": [
       "<IPython.core.display.HTML object>"
      ]
     },
     "metadata": {},
     "output_type": "display_data"
    },
    {
     "name": "stdout",
     "output_type": "stream",
     "text": [
      "Квадратичная функция, ε = 1e-06, начальная точка = (1000.0, 1000.0)\n"
     ]
    },
    {
     "data": {
      "text/html": [
       "<table style=\"border:20px black solid\"><tr><th></th><th>Метод градиентного спуска с дробным шагом</th><th>Метод наискорейшего спуска</th></tr><tr><th>1. Точка минимума</th><th>(2.236068, 0.000000)</th><th>(2.236068, -0.000000)</th></tr><tr><th>2. Минимум</th><th>-66.000000</th><th>-66.000000</th></tr><tr><th>3. Кол-во итераций</th><th>26</th><th>12</th></tr><tr><th>4. Кол-во вызовов целевой функции</th><th>60</th><th>405</th></tr><tr><th>5. Кол-во вычислений градиента</th><th>26</th><th>12</th></tr></table>"
      ],
      "text/plain": [
       "<IPython.core.display.HTML object>"
      ]
     },
     "metadata": {},
     "output_type": "display_data"
    },
    {
     "name": "stdout",
     "output_type": "stream",
     "text": [
      "Функция Розенброка с α = 1, ε = 0.01, начальная точка = (5.0, 1.0)\n"
     ]
    },
    {
     "data": {
      "text/html": [
       "<table style=\"border:20px black solid\"><tr><th></th><th>Метод градиентного спуска с дробным шагом</th><th>Метод наискорейшего спуска</th></tr><tr><th>1. Точка минимума</th><th>(1.01, 1.03)</th><th>(1.01, 1.02)</th></tr><tr><th>2. Минимум</th><th>0.00</th><th>0.00</th></tr><tr><th>3. Кол-во итераций</th><th>3300</th><th>42</th></tr><tr><th>4. Кол-во вызовов целевой функции</th><th>6616</th><th>596</th></tr><tr><th>5. Кол-во вычислений градиента</th><th>3300</th><th>42</th></tr></table>"
      ],
      "text/plain": [
       "<IPython.core.display.HTML object>"
      ]
     },
     "metadata": {},
     "output_type": "display_data"
    },
    {
     "name": "stdout",
     "output_type": "stream",
     "text": [
      "Функция Розенброка с α = 1, ε = 0.01, начальная точка = (50.0, -400.0)\n"
     ]
    },
    {
     "data": {
      "text/html": [
       "<table style=\"border:20px black solid\"><tr><th></th><th>Метод градиентного спуска с дробным шагом</th><th>Метод наискорейшего спуска</th></tr><tr><th>1. Точка минимума</th><th>(0.99, 0.97)</th><th>(0.99, 0.98)</th></tr><tr><th>2. Минимум</th><th>0.00</th><th>0.00</th></tr><tr><th>3. Кол-во итераций</th><th>456778</th><th>76</th></tr><tr><th>4. Кол-во вызовов целевой функции</th><th>913585</th><th>1150</th></tr><tr><th>5. Кол-во вычислений градиента</th><th>456778</th><th>76</th></tr></table>"
      ],
      "text/plain": [
       "<IPython.core.display.HTML object>"
      ]
     },
     "metadata": {},
     "output_type": "display_data"
    },
    {
     "name": "stdout",
     "output_type": "stream",
     "text": [
      "Функция Розенброка с α = 1, ε = 1e-06, начальная точка = (50.0, 2.0)\n"
     ]
    },
    {
     "data": {
      "text/html": [
       "<table style=\"border:20px black solid\"><tr><th></th><th>Метод градиентного спуска с дробным шагом</th><th>Метод наискорейшего спуска</th></tr><tr><th>1. Точка минимума</th><th>(1.000001, 1.000003)</th><th>(1.000001, 1.000002)</th></tr><tr><th>2. Минимум</th><th>0.000000</th><th>0.000000</th></tr><tr><th>3. Кол-во итераций</th><th>1495628</th><th>126</th></tr><tr><th>4. Кол-во вызовов целевой функции</th><th>2991285</th><th>4161</th></tr><tr><th>5. Кол-во вычислений градиента</th><th>1495628</th><th>126</th></tr></table>"
      ],
      "text/plain": [
       "<IPython.core.display.HTML object>"
      ]
     },
     "metadata": {},
     "output_type": "display_data"
    },
    {
     "name": "stdout",
     "output_type": "stream",
     "text": [
      "Функция Розенброка с α = 1, ε = 1e-06, начальная точка = (12.0, -5.0)\n"
     ]
    },
    {
     "data": {
      "text/html": [
       "<table style=\"border:20px black solid\"><tr><th></th><th>Метод градиентного спуска с дробным шагом</th><th>Метод наискорейшего спуска</th></tr><tr><th>1. Точка минимума</th><th>(0.999999, 0.999997)</th><th>(0.999999, 0.999998)</th></tr><tr><th>2. Минимум</th><th>0.000000</th><th>0.000000</th></tr><tr><th>3. Кол-во итераций</th><th>75036</th><th>98</th></tr><tr><th>4. Кол-во вызовов целевой функции</th><th>150093</th><th>3227</th></tr><tr><th>5. Кол-во вычислений градиента</th><th>75036</th><th>98</th></tr></table>"
      ],
      "text/plain": [
       "<IPython.core.display.HTML object>"
      ]
     },
     "metadata": {},
     "output_type": "display_data"
    },
    {
     "name": "stdout",
     "output_type": "stream",
     "text": [
      "Функция Розенброка с α = 10, ε = 0.01, начальная точка = (1.0, 1.0)\n"
     ]
    },
    {
     "data": {
      "text/html": [
       "<table style=\"border:20px black solid\"><tr><th></th><th>Метод градиентного спуска с дробным шагом</th><th>Метод наискорейшего спуска</th></tr><tr><th>1. Точка минимума</th><th>(1.00, 1.00)</th><th>(1.00, 1.00)</th></tr><tr><th>2. Минимум</th><th>0.00</th><th>0.00</th></tr><tr><th>3. Кол-во итераций</th><th>1</th><th>1</th></tr><tr><th>4. Кол-во вызовов целевой функции</th><th>2</th><th>11</th></tr><tr><th>5. Кол-во вычислений градиента</th><th>1</th><th>1</th></tr></table>"
      ],
      "text/plain": [
       "<IPython.core.display.HTML object>"
      ]
     },
     "metadata": {},
     "output_type": "display_data"
    },
    {
     "name": "stdout",
     "output_type": "stream",
     "text": [
      "Функция Розенброка с α = 10, ε = 0.01, начальная точка = (6.0, 7.0)\n"
     ]
    },
    {
     "data": {
      "text/html": [
       "<table style=\"border:20px black solid\"><tr><th></th><th>Метод градиентного спуска с дробным шагом</th><th>Метод наискорейшего спуска</th></tr><tr><th>1. Точка минимума</th><th>(1.01, 1.02)</th><th>(1.01, 1.02)</th></tr><tr><th>2. Минимум</th><th>0.00</th><th>0.00</th></tr><tr><th>3. Кол-во итераций</th><th>130239</th><th>238</th></tr><tr><th>4. Кол-во вызовов целевой функции</th><th>260502</th><th>4353</th></tr><tr><th>5. Кол-во вычислений градиента</th><th>130239</th><th>238</th></tr></table>"
      ],
      "text/plain": [
       "<IPython.core.display.HTML object>"
      ]
     },
     "metadata": {},
     "output_type": "display_data"
    },
    {
     "name": "stdout",
     "output_type": "stream",
     "text": [
      "Функция Розенброка с α = 10, ε = 1e-06, начальная точка = (2.0, 2.0)\n"
     ]
    },
    {
     "data": {
      "text/html": [
       "<table style=\"border:20px black solid\"><tr><th></th><th>Метод градиентного спуска с дробным шагом</th><th>Метод наискорейшего спуска</th></tr><tr><th>1. Точка минимума</th><th>(1.000001, 1.000002)</th><th>(1.000001, 1.000002)</th></tr><tr><th>2. Минимум</th><th>0.000000</th><th>0.000000</th></tr><tr><th>3. Кол-во итераций</th><th>16659</th><th>113</th></tr><tr><th>4. Кол-во вызовов целевой функции</th><th>33335</th><th>4033</th></tr><tr><th>5. Кол-во вычислений градиента</th><th>16659</th><th>113</th></tr></table>"
      ],
      "text/plain": [
       "<IPython.core.display.HTML object>"
      ]
     },
     "metadata": {},
     "output_type": "display_data"
    },
    {
     "name": "stdout",
     "output_type": "stream",
     "text": [
      "Функция Розенброка с α = 10, ε = 1e-06, начальная точка = (-5.0, -5.0)\n"
     ]
    },
    {
     "data": {
      "text/html": [
       "<table style=\"border:20px black solid\"><tr><th></th><th>Метод градиентного спуска с дробным шагом</th><th>Метод наискорейшего спуска</th></tr><tr><th>1. Точка минимума</th><th>(0.999999, 0.999998)</th><th>(0.999999, 0.999998)</th></tr><tr><th>2. Минимум</th><th>0.000000</th><th>0.000000</th></tr><tr><th>3. Кол-во итераций</th><th>129575</th><th>1268</th></tr><tr><th>4. Кол-во вызовов целевой функции</th><th>259173</th><th>48089</th></tr><tr><th>5. Кол-во вычислений градиента</th><th>129575</th><th>1268</th></tr></table>"
      ],
      "text/plain": [
       "<IPython.core.display.HTML object>"
      ]
     },
     "metadata": {},
     "output_type": "display_data"
    }
   ],
   "source": [
    "import warnings\n",
    "warnings.filterwarnings('ignore')\n",
    "\n",
    "showImg = True\n",
    "\n",
    "epss = [0.01, 1e-6]\n",
    "\n",
    "funs = [['Квадратичная функция', f1, f1Grad], ['Функция Розенброка с \\u03b1 = 1',\n",
    "                                              f2, f2Grad], ['Функция Розенброка с \\u03b1 = 10', f3, f3Grad]]\n",
    "\n",
    "# funs = [['Функция Розенброка с \\u03b1 = 1', f2, f2Grad], ['Функция Розенброка с \\u03b1 = 10', f3, f3Grad]]\n",
    "\n",
    "\n",
    "startPoints = [\n",
    "    [10., 10.], [-100., -100.], [0., 0.], [1000., 1000.],\n",
    "    [5., 1.], [50.0, -400.0], [50.0, 2.], [12., -5.],\n",
    "    [1., 1.], [6., 7.], [2., 2.], [-5., -5.]\n",
    "]\n",
    "\n",
    "# startPoints = [\n",
    "#     [5., 1.], [20., -1000.0], [50.0, 2.], [12., -5.],\n",
    "#     [1., 1.], [6., 7.], [2., 2.], [-5., -5.]\n",
    "# ]\n",
    "\n",
    "for i, fun in enumerate(funs):\n",
    "    for j, eps in enumerate(epss):\n",
    "        ind = 2*(i*len(epss) + j)\n",
    "        # ind = i*len(epss) + j\n",
    "        startPoint = startPoints[ind]\n",
    "\n",
    "        print(fun[0] + ', \\u03b5 = ' + str(eps) + ', начальная точка = (' +\n",
    "              str(startPoint[0]) + ', ' + str(startPoint[1]) + ')')\n",
    "\n",
    "        res1 = GradDescMethod(fun[1], fun[2], eps, startPoint, fun[0])\n",
    "        res2 = StepDescMethod(fun[1], fun[2], eps, startPoint, fun[0])\n",
    "        printMethodsInfo([res1, res2], showImg)\n",
    "\n",
    "        ind += 1\n",
    "        # ind = i*len(epss) + j\n",
    "        startPoint = startPoints[ind]\n",
    "\n",
    "        print(fun[0] + ', \\u03b5 = ' + str(eps) + ', начальная точка = (' +\n",
    "              str(startPoint[0]) + ', ' + str(startPoint[1]) + ')')\n",
    "\n",
    "        res1 = GradDescMethod(fun[1], fun[2], eps, startPoint, fun[0])\n",
    "        res2 = StepDescMethod(fun[1], fun[2], eps, startPoint, fun[0])\n",
    "        printMethodsInfo([res1, res2], showImg)\n"
   ]
  },
  {
   "cell_type": "markdown",
   "metadata": {},
   "source": [
    "В зависимости:\n",
    "1. от параметров точности;\n",
    "2. начальной точки;\n",
    "3. выпуклости (переход от квадратичной функции к функции Розенброка);\n",
    "4. овражности функции (параметра α в функции Розенброка)"
   ]
  },
  {
   "cell_type": "markdown",
   "metadata": {},
   "source": [
    "1. Для квадратичной функции лучше метод с дроблением шага, для ф-и Розенброка - наискорейший спуск.\n",
    "2. Чем больше точность, тем больше вызовов целевой функции.\n",
    "3. Выпуклость приводит к увеличению кол-во вызовов целевой функции и её градиента.\n",
    "4. Увеличение овражности приводит к увеличению кол-во вызовов целевой функции и её градиента."
   ]
  },
  {
   "cell_type": "code",
   "execution_count": 39,
   "metadata": {},
   "outputs": [
    {
     "name": "stdout",
     "output_type": "stream",
     "text": [
      "text\n",
      "title\n"
     ]
    },
    {
     "data": {
      "text/markdown": [
       "# title\n",
       "## *tt*"
      ],
      "text/plain": [
       "<IPython.core.display.Markdown object>"
      ]
     },
     "metadata": {},
     "output_type": "display_data"
    }
   ],
   "source": [
    "print('text')\n",
    "from IPython.display import display, Markdown\n",
    "print('title')\n",
    "display(Markdown(\"\"\"# title\n",
    "## *tt*\"\"\"))"
   ]
  }
 ],
 "metadata": {
  "kernelspec": {
   "display_name": "Python 3.9.7 64-bit",
   "language": "python",
   "name": "python3"
  },
  "language_info": {
   "codemirror_mode": {
    "name": "ipython",
    "version": 3
   },
   "file_extension": ".py",
   "mimetype": "text/x-python",
   "name": "python",
   "nbconvert_exporter": "python",
   "pygments_lexer": "ipython3",
   "version": "3.9.7"
  },
  "orig_nbformat": 4,
  "vscode": {
   "interpreter": {
    "hash": "81794d4967e6c3204c66dcd87b604927b115b27c00565d3d43f05ba2f3a2cb0d"
   }
  }
 },
 "nbformat": 4,
 "nbformat_minor": 2
}
